{
 "cells": [
  {
   "cell_type": "code",
   "execution_count": 1,
   "metadata": {},
   "outputs": [],
   "source": [
    "savings=1000"
   ]
  },
  {
   "cell_type": "code",
   "execution_count": 12,
   "metadata": {},
   "outputs": [],
   "source": [
    "population = [300,700,950]"
   ]
  },
  {
   "cell_type": "code",
   "execution_count": 13,
   "metadata": {},
   "outputs": [
    {
     "name": "stdout",
     "output_type": "stream",
     "text": [
      "Key : 0 Population:  300\n",
      "Key : 1 Population:  700\n",
      "Key : 2 Population:  950\n"
     ]
    }
   ],
   "source": [
    "for key,value in enumerate(population):\n",
    "    print('Key :',key,'Population: ',value)"
   ]
  },
  {
   "cell_type": "code",
   "execution_count": 3,
   "metadata": {},
   "outputs": [],
   "source": [
    "d=\"dsdsb\""
   ]
  },
  {
   "cell_type": "code",
   "execution_count": 4,
   "metadata": {},
   "outputs": [
    {
     "data": {
      "text/plain": [
       "5"
      ]
     },
     "execution_count": 4,
     "metadata": {},
     "output_type": "execute_result"
    }
   ],
   "source": [
    "len(d)"
   ]
  },
  {
   "cell_type": "code",
   "execution_count": 5,
   "metadata": {},
   "outputs": [
    {
     "data": {
      "text/plain": [
       "[300, 700, 950]"
      ]
     },
     "execution_count": 5,
     "metadata": {},
     "output_type": "execute_result"
    }
   ],
   "source": [
    "population"
   ]
  },
  {
   "cell_type": "code",
   "execution_count": 5,
   "metadata": {},
   "outputs": [],
   "source": [
    "def add_function(a,b):\n",
    "        return (a+b)"
   ]
  },
  {
   "cell_type": "code",
   "execution_count": 6,
   "metadata": {},
   "outputs": [
    {
     "name": "stdout",
     "output_type": "stream",
     "text": [
      "14\n"
     ]
    }
   ],
   "source": [
    "f=add_function(5,9)\n",
    "print(f)"
   ]
  },
  {
   "cell_type": "code",
   "execution_count": 8,
   "metadata": {},
   "outputs": [
    {
     "name": "stdout",
     "output_type": "stream",
     "text": [
      "Enter the number for which you have to find cube\n",
      "1\n",
      "The cube of  1 is 1\n",
      "Enter the first number\n",
      "1\n",
      "Enter the second number\n",
      "1\n",
      "the sum of two number is:  2\n",
      "the difference of two number is:  0\n",
      "The multiplication of two number is: 1\n",
      "the division of a/b is: 1.0\n",
      "Enter the first name: \n",
      "gyanu\n",
      "Enter the last name: \n",
      "Mahesh\n",
      "gyanu Mahesh\n",
      "<class 'list'>\n",
      "the sum of the values present in list is 346\n"
     ]
    }
   ],
   "source": [
    "class Add:\n",
    "    def add_function(self,a,b):\n",
    "        return a+b\n",
    "    \n",
    "    def cube_number(self,a):\n",
    "        return a*a*a\n",
    "    \n",
    "    def diff_function(self,a,b):\n",
    "        g=a-b\n",
    "        if g>0:\n",
    "            return g\n",
    "        else:\n",
    "            return -(g)\n",
    "            \n",
    "    \n",
    "    def multiply_function(self,a,b):\n",
    "        return a*b\n",
    "    \n",
    "    def division_function(self,a,b):\n",
    "        return a/b\n",
    "\n",
    "    \n",
    "class Tough:\n",
    "    def add_list(self,a):\n",
    "        k=len(a)\n",
    "        sum=0\n",
    "        for n in range(k):\n",
    "            sum = sum + a[n]\n",
    "        return sum\n",
    "    \n",
    "def pandu(a,b):\n",
    "    return a+\" \"+b\n",
    "\n",
    "# def add_list(a):\n",
    "#     k=len(a)\n",
    "#     sum=0\n",
    "#     for n in range(k):\n",
    "#         sum = sum + a[n]\n",
    "#     return sum\n",
    "    \n",
    "c=Add()\n",
    "d=Tough()\n",
    "print(\"Enter the number for which you have to find cube\")\n",
    "y=int(input())\n",
    "print('The cube of ', y,'is', c.cube_number(y))\n",
    "print('Enter the first number')\n",
    "a=int(input())\n",
    "print('Enter the second number')\n",
    "b=int(input())\n",
    "g=c.add_function(a,b)\n",
    "h=c.diff_function(a,b)\n",
    "i=c.multiply_function(a,b)\n",
    "j=c.division_function(a,b)\n",
    "print(\"the sum of two number is: \",g)\n",
    "print(\"the difference of two number is: \",h)\n",
    "print(\"The multiplication of two number is:\",i)\n",
    "print(\"the division of a/b is:\", j)\n",
    "print('Enter the first name: ')\n",
    "stg1=input()\n",
    "print('Enter the last name: ')\n",
    "stg2=input()\n",
    "print(pandu(stg1,stg2))\n",
    "f=[21,54,65,87,54,65]\n",
    "print(type(f))\n",
    "v=d.add_list(f)\n",
    "print('the sum of the values present in list is',v)"
   ]
  },
  {
   "cell_type": "code",
   "execution_count": 2,
   "metadata": {},
   "outputs": [],
   "source": [
    "x=\"I have saved $\"+str(savings)"
   ]
  },
  {
   "cell_type": "code",
   "execution_count": 5,
   "metadata": {},
   "outputs": [
    {
     "data": {
      "text/plain": [
       "int"
      ]
     },
     "execution_count": 5,
     "metadata": {},
     "output_type": "execute_result"
    }
   ],
   "source": [
    "type(savings)"
   ]
  },
  {
   "cell_type": "code",
   "execution_count": 10,
   "metadata": {
    "scrolled": true
   },
   "outputs": [
    {
     "name": "stdout",
     "output_type": "stream",
     "text": [
      "i have saved $1000 and i am preparing to save more\n"
     ]
    }
   ],
   "source": [
    "print(\"i have saved $\",savings,\" and i am preparing to save more\",sep=\"\")"
   ]
  },
  {
   "cell_type": "code",
   "execution_count": 1,
   "metadata": {},
   "outputs": [],
   "source": [
    "import numpy as np"
   ]
  },
  {
   "cell_type": "code",
   "execution_count": 3,
   "metadata": {},
   "outputs": [
    {
     "data": {
      "text/plain": [
       "array([390, 975, 213,  20])"
      ]
     },
     "execution_count": 3,
     "metadata": {},
     "output_type": "execute_result"
    }
   ],
   "source": [
    "p=[12,3,42,4]\n",
    "q=[122,323,43,4]\n",
    "p_a=np.array(p)\n",
    "q_a=np.array(q)\n",
    "c=(p_a*2)+(3*q_a)\n",
    "c"
   ]
  },
  {
   "cell_type": "code",
   "execution_count": 6,
   "metadata": {},
   "outputs": [
    {
     "data": {
      "text/plain": [
       "array([1.5 , 1.58, 1.45, 1.8 , 1.9 ])"
      ]
     },
     "execution_count": 6,
     "metadata": {},
     "output_type": "execute_result"
    }
   ],
   "source": [
    "height=[150,158,145,180,190]\n",
    "height_a=(np.array(height))/100\n",
    "height_a"
   ]
  },
  {
   "cell_type": "code",
   "execution_count": 10,
   "metadata": {},
   "outputs": [],
   "source": [
    "e=3\n",
    "q=3"
   ]
  },
  {
   "cell_type": "code",
   "execution_count": 12,
   "metadata": {},
   "outputs": [
    {
     "data": {
      "text/plain": [
       "12"
      ]
     },
     "execution_count": 12,
     "metadata": {},
     "output_type": "execute_result"
    }
   ],
   "source": [
    "(2*e+2*q)"
   ]
  },
  {
   "cell_type": "code",
   "execution_count": 14,
   "metadata": {},
   "outputs": [
    {
     "data": {
      "text/plain": [
       "['ee', 'shhdef', 'we']"
      ]
     },
     "execution_count": 14,
     "metadata": {},
     "output_type": "execute_result"
    }
   ],
   "source": [
    "f=['we','ee','shhdef']\n",
    "f.sort()\n",
    "f"
   ]
  },
  {
   "cell_type": "code",
   "execution_count": 1,
   "metadata": {},
   "outputs": [],
   "source": [
    "import pandas as pd"
   ]
  },
  {
   "cell_type": "code",
   "execution_count": 17,
   "metadata": {},
   "outputs": [
    {
     "data": {
      "text/html": [
       "<div>\n",
       "<style scoped>\n",
       "    .dataframe tbody tr th:only-of-type {\n",
       "        vertical-align: middle;\n",
       "    }\n",
       "\n",
       "    .dataframe tbody tr th {\n",
       "        vertical-align: top;\n",
       "    }\n",
       "\n",
       "    .dataframe thead th {\n",
       "        text-align: right;\n",
       "    }\n",
       "</style>\n",
       "<table border=\"1\" class=\"dataframe\">\n",
       "  <thead>\n",
       "    <tr style=\"text-align: right;\">\n",
       "      <th></th>\n",
       "      <th>Hours</th>\n",
       "    </tr>\n",
       "  </thead>\n",
       "  <tbody>\n",
       "    <tr>\n",
       "      <th>0</th>\n",
       "      <td>6</td>\n",
       "    </tr>\n",
       "    <tr>\n",
       "      <th>1</th>\n",
       "      <td>4</td>\n",
       "    </tr>\n",
       "    <tr>\n",
       "      <th>2</th>\n",
       "      <td>9</td>\n",
       "    </tr>\n",
       "    <tr>\n",
       "      <th>3</th>\n",
       "      <td>8</td>\n",
       "    </tr>\n",
       "    <tr>\n",
       "      <th>4</th>\n",
       "      <td>19</td>\n",
       "    </tr>\n",
       "  </tbody>\n",
       "</table>\n",
       "</div>"
      ],
      "text/plain": [
       "   Hours\n",
       "0      6\n",
       "1      4\n",
       "2      9\n",
       "3      8\n",
       "4     19"
      ]
     },
     "execution_count": 17,
     "metadata": {},
     "output_type": "execute_result"
    }
   ],
   "source": [
    "nielson=pd.read_csv('Nielsen.csv')\n",
    "nielson.head()"
   ]
  },
  {
   "cell_type": "code",
   "execution_count": 36,
   "metadata": {},
   "outputs": [],
   "source": [
    "import scipy.stats as st\n",
    "import math as m"
   ]
  },
  {
   "cell_type": "code",
   "execution_count": 34,
   "metadata": {},
   "outputs": [
    {
     "name": "stdout",
     "output_type": "stream",
     "text": [
      "8.5\n",
      "8.10394499307334 8.89605500692666 value of z is  -1.959963984540054\n"
     ]
    }
   ],
   "source": [
    "xbar=nielson.Hours.mean()\n",
    "print(xbar)\n",
    "CI=.95\n",
    "n=nielson.count()\n",
    "pop_std=3.5\n",
    "z=st.norm.ppf((1-CI)/2)\n",
    "mu1=xbar+z*(pop_std/m.sqrt(n))\n",
    "mu2=xbar-z*(pop_std/m.sqrt(n))\n",
    "print(mu1,mu2,\"value of z is \",z)"
   ]
  },
  {
   "cell_type": "code",
   "execution_count": 41,
   "metadata": {},
   "outputs": [
    {
     "name": "stdout",
     "output_type": "stream",
     "text": [
      "[8.10800787] [8.89199213] value of z is  [-1.96792967] s= 3.4500739170987074\n"
     ]
    }
   ],
   "source": [
    "sigma=nielson.Hours.std()\n",
    "t=st.t.ppf((1-CI)/2,n-1)\n",
    "mu1=xbar+t*(sigma/m.sqrt(n))\n",
    "mu2=xbar-t*(sigma/m.sqrt(n))\n",
    "print(mu1,mu2,\"value of z is \",t,\"s=\",sigma)"
   ]
  },
  {
   "cell_type": "markdown",
   "metadata": {},
   "source": [
    "# H0(Sachin) : SR>90"
   ]
  },
  {
   "cell_type": "markdown",
   "metadata": {},
   "source": [
    "# Ha(Sachin) : SR<90"
   ]
  },
  {
   "cell_type": "code",
   "execution_count": 1,
   "metadata": {},
   "outputs": [],
   "source": [
    "import pandas as pd"
   ]
  },
  {
   "cell_type": "code",
   "execution_count": null,
   "metadata": {},
   "outputs": [],
   "source": []
  },
  {
   "cell_type": "code",
   "execution_count": 4,
   "metadata": {},
   "outputs": [],
   "source": [
    "cricket=pd.read_csv('Lesson 8-9 Hypothesis Testing Ex 2.csv')"
   ]
  },
  {
   "cell_type": "code",
   "execution_count": 3,
   "metadata": {},
   "outputs": [
    {
     "data": {
      "text/html": [
       "<div>\n",
       "<style scoped>\n",
       "    .dataframe tbody tr th:only-of-type {\n",
       "        vertical-align: middle;\n",
       "    }\n",
       "\n",
       "    .dataframe tbody tr th {\n",
       "        vertical-align: top;\n",
       "    }\n",
       "\n",
       "    .dataframe thead th {\n",
       "        text-align: right;\n",
       "    }\n",
       "</style>\n",
       "<table border=\"1\" class=\"dataframe\">\n",
       "  <thead>\n",
       "    <tr style=\"text-align: right;\">\n",
       "      <th></th>\n",
       "      <th>Player</th>\n",
       "      <th>Runs</th>\n",
       "      <th>Mins</th>\n",
       "      <th>BF</th>\n",
       "      <th>4s</th>\n",
       "      <th>6s</th>\n",
       "      <th>SR</th>\n",
       "      <th>Pos</th>\n",
       "      <th>Dismissal</th>\n",
       "      <th>Inns</th>\n",
       "      <th>Opposition</th>\n",
       "      <th>Ground</th>\n",
       "      <th>Start Date</th>\n",
       "    </tr>\n",
       "  </thead>\n",
       "  <tbody>\n",
       "    <tr>\n",
       "      <th>0</th>\n",
       "      <td>Sachin</td>\n",
       "      <td>35</td>\n",
       "      <td>51</td>\n",
       "      <td>44</td>\n",
       "      <td>5</td>\n",
       "      <td>0</td>\n",
       "      <td>79.54</td>\n",
       "      <td>4</td>\n",
       "      <td>caught</td>\n",
       "      <td>2</td>\n",
       "      <td>v England</td>\n",
       "      <td>Perth</td>\n",
       "      <td>22-Feb-92</td>\n",
       "    </tr>\n",
       "    <tr>\n",
       "      <th>1</th>\n",
       "      <td>Sachin</td>\n",
       "      <td>11</td>\n",
       "      <td>19</td>\n",
       "      <td>19</td>\n",
       "      <td>1</td>\n",
       "      <td>0</td>\n",
       "      <td>57.89</td>\n",
       "      <td>4</td>\n",
       "      <td>caught</td>\n",
       "      <td>2</td>\n",
       "      <td>v Australia</td>\n",
       "      <td>Brisbane</td>\n",
       "      <td>01-Mar-92</td>\n",
       "    </tr>\n",
       "    <tr>\n",
       "      <th>2</th>\n",
       "      <td>Sachin</td>\n",
       "      <td>54</td>\n",
       "      <td>91</td>\n",
       "      <td>62</td>\n",
       "      <td>3</td>\n",
       "      <td>0</td>\n",
       "      <td>87.09</td>\n",
       "      <td>5</td>\n",
       "      <td>not out</td>\n",
       "      <td>1</td>\n",
       "      <td>v Pakistan</td>\n",
       "      <td>Sydney</td>\n",
       "      <td>04-Mar-92</td>\n",
       "    </tr>\n",
       "    <tr>\n",
       "      <th>3</th>\n",
       "      <td>Sachin</td>\n",
       "      <td>81</td>\n",
       "      <td>88</td>\n",
       "      <td>77</td>\n",
       "      <td>8</td>\n",
       "      <td>1</td>\n",
       "      <td>105.19</td>\n",
       "      <td>4</td>\n",
       "      <td>caught</td>\n",
       "      <td>1</td>\n",
       "      <td>v Zimbabwe</td>\n",
       "      <td>Hamilton</td>\n",
       "      <td>07-Mar-92</td>\n",
       "    </tr>\n",
       "    <tr>\n",
       "      <th>4</th>\n",
       "      <td>Sachin</td>\n",
       "      <td>4</td>\n",
       "      <td>11</td>\n",
       "      <td>11</td>\n",
       "      <td>0</td>\n",
       "      <td>0</td>\n",
       "      <td>36.36</td>\n",
       "      <td>4</td>\n",
       "      <td>caught</td>\n",
       "      <td>1</td>\n",
       "      <td>v West Indies</td>\n",
       "      <td>Wellington</td>\n",
       "      <td>10-Mar-92</td>\n",
       "    </tr>\n",
       "  </tbody>\n",
       "</table>\n",
       "</div>"
      ],
      "text/plain": [
       "   Player  Runs  Mins  BF  4s  6s      SR  Pos Dismissal  Inns     Opposition  \\\n",
       "0  Sachin    35    51  44   5   0   79.54    4    caught     2      v England   \n",
       "1  Sachin    11    19  19   1   0   57.89    4    caught     2    v Australia   \n",
       "2  Sachin    54    91  62   3   0   87.09    5   not out     1     v Pakistan   \n",
       "3  Sachin    81    88  77   8   1  105.19    4    caught     1     v Zimbabwe   \n",
       "4  Sachin     4    11  11   0   0   36.36    4    caught     1  v West Indies   \n",
       "\n",
       "       Ground Start Date  \n",
       "0       Perth  22-Feb-92  \n",
       "1    Brisbane  01-Mar-92  \n",
       "2      Sydney  04-Mar-92  \n",
       "3    Hamilton  07-Mar-92  \n",
       "4  Wellington  10-Mar-92  "
      ]
     },
     "execution_count": 3,
     "metadata": {},
     "output_type": "execute_result"
    }
   ],
   "source": [
    "cricket.head()"
   ]
  },
  {
   "cell_type": "code",
   "execution_count": 4,
   "metadata": {},
   "outputs": [],
   "source": [
    "xbar_s= cricket.SR.mean()"
   ]
  },
  {
   "cell_type": "code",
   "execution_count": 33,
   "metadata": {},
   "outputs": [],
   "source": [
    "crk_sachin=cricket[cricket['Player']=='Sachin']"
   ]
  },
  {
   "cell_type": "code",
   "execution_count": 7,
   "metadata": {},
   "outputs": [],
   "source": [
    "xbar_s= crk_sachin.SR.mean()"
   ]
  },
  {
   "cell_type": "code",
   "execution_count": 14,
   "metadata": {},
   "outputs": [],
   "source": [
    "s=crk_sachin.SR.std()"
   ]
  },
  {
   "cell_type": "code",
   "execution_count": 15,
   "metadata": {},
   "outputs": [],
   "source": [
    "t=(xbar_s-90)/(s/m.sqrt(44))"
   ]
  },
  {
   "cell_type": "code",
   "execution_count": 17,
   "metadata": {},
   "outputs": [],
   "source": [
    "p=st.t.cdf(t,43)"
   ]
  },
  {
   "cell_type": "code",
   "execution_count": 18,
   "metadata": {},
   "outputs": [
    {
     "data": {
      "text/plain": [
       "0.034812270155058736"
      ]
     },
     "execution_count": 18,
     "metadata": {},
     "output_type": "execute_result"
    }
   ],
   "source": [
    "p"
   ]
  },
  {
   "cell_type": "code",
   "execution_count": 20,
   "metadata": {},
   "outputs": [
    {
     "data": {
      "text/plain": [
       "Ttest_1sampResult(statistic=-1.8607623643117357, pvalue=0.0696245403101171)"
      ]
     },
     "execution_count": 20,
     "metadata": {},
     "output_type": "execute_result"
    }
   ],
   "source": [
    "st.ttest_1samp(crk_sachin.SR,90)"
   ]
  },
  {
   "cell_type": "code",
   "execution_count": 34,
   "metadata": {},
   "outputs": [],
   "source": [
    "crk_dravid=cricket[cricket['Player']=='Dravid']"
   ]
  },
  {
   "cell_type": "code",
   "execution_count": 12,
   "metadata": {},
   "outputs": [
    {
     "data": {
      "text/plain": [
       "(21, 13)"
      ]
     },
     "execution_count": 12,
     "metadata": {},
     "output_type": "execute_result"
    }
   ],
   "source": [
    "crk_dravid.shape"
   ]
  },
  {
   "cell_type": "code",
   "execution_count": 13,
   "metadata": {},
   "outputs": [],
   "source": [
    "xbar_d=crk_dravid.SR.mean()"
   ]
  },
  {
   "cell_type": "code",
   "execution_count": 14,
   "metadata": {},
   "outputs": [],
   "source": [
    "s_d=crk_dravid.SR.std()"
   ]
  },
  {
   "cell_type": "code",
   "execution_count": 27,
   "metadata": {},
   "outputs": [],
   "source": [
    "t1=(xbar_d-70)/(s_d/m.sqrt(21))"
   ]
  },
  {
   "cell_type": "code",
   "execution_count": 31,
   "metadata": {},
   "outputs": [],
   "source": [
    "p=st.t.cdf(t1,20)"
   ]
  },
  {
   "cell_type": "code",
   "execution_count": 32,
   "metadata": {},
   "outputs": [
    {
     "data": {
      "text/plain": [
       "0.8514359212799745"
      ]
     },
     "execution_count": 32,
     "metadata": {},
     "output_type": "execute_result"
    }
   ],
   "source": [
    "p"
   ]
  },
  {
   "cell_type": "code",
   "execution_count": 30,
   "metadata": {},
   "outputs": [
    {
     "data": {
      "text/plain": [
       "1.07053558434557"
      ]
     },
     "execution_count": 30,
     "metadata": {},
     "output_type": "execute_result"
    }
   ],
   "source": [
    "t1"
   ]
  },
  {
   "cell_type": "code",
   "execution_count": 36,
   "metadata": {},
   "outputs": [
    {
     "data": {
      "text/plain": [
       "Ttest_indResult(statistic=-0.45742745063995305, pvalue=0.6489374413165088)"
      ]
     },
     "execution_count": 36,
     "metadata": {},
     "output_type": "execute_result"
    }
   ],
   "source": [
    "st.ttest_ind(crk_sachin.SR,crk_dravid.SR)"
   ]
  },
  {
   "cell_type": "code",
   "execution_count": 38,
   "metadata": {},
   "outputs": [],
   "source": [
    "car=pd.read_csv('cars.csv')"
   ]
  },
  {
   "cell_type": "code",
   "execution_count": 39,
   "metadata": {},
   "outputs": [
    {
     "data": {
      "text/html": [
       "<div>\n",
       "<style scoped>\n",
       "    .dataframe tbody tr th:only-of-type {\n",
       "        vertical-align: middle;\n",
       "    }\n",
       "\n",
       "    .dataframe tbody tr th {\n",
       "        vertical-align: top;\n",
       "    }\n",
       "\n",
       "    .dataframe thead th {\n",
       "        text-align: right;\n",
       "    }\n",
       "</style>\n",
       "<table border=\"1\" class=\"dataframe\">\n",
       "  <thead>\n",
       "    <tr style=\"text-align: right;\">\n",
       "      <th></th>\n",
       "      <th>Make</th>\n",
       "      <th>Model</th>\n",
       "      <th>Type</th>\n",
       "      <th>Origin</th>\n",
       "      <th>DriveTrain</th>\n",
       "      <th>MSRP</th>\n",
       "      <th>Invoice</th>\n",
       "      <th>EngineSize</th>\n",
       "      <th>Cylinders</th>\n",
       "      <th>Horsepower</th>\n",
       "      <th>MPG_City</th>\n",
       "      <th>MPG_Highway</th>\n",
       "      <th>Weight</th>\n",
       "      <th>Wheelbase</th>\n",
       "      <th>Length</th>\n",
       "    </tr>\n",
       "  </thead>\n",
       "  <tbody>\n",
       "    <tr>\n",
       "      <th>0</th>\n",
       "      <td>Acura</td>\n",
       "      <td>MDX</td>\n",
       "      <td>SUV</td>\n",
       "      <td>Asia</td>\n",
       "      <td>All</td>\n",
       "      <td>36945.0</td>\n",
       "      <td>33337.0</td>\n",
       "      <td>3.5</td>\n",
       "      <td>6.0</td>\n",
       "      <td>265.0</td>\n",
       "      <td>17.0</td>\n",
       "      <td>23.0</td>\n",
       "      <td>4451.0</td>\n",
       "      <td>106.0</td>\n",
       "      <td>189.0</td>\n",
       "    </tr>\n",
       "    <tr>\n",
       "      <th>1</th>\n",
       "      <td>Acura</td>\n",
       "      <td>RSX Type S 2dr</td>\n",
       "      <td>Sedan</td>\n",
       "      <td>Asia</td>\n",
       "      <td>Front</td>\n",
       "      <td>23820.0</td>\n",
       "      <td>21761.0</td>\n",
       "      <td>2.0</td>\n",
       "      <td>4.0</td>\n",
       "      <td>200.0</td>\n",
       "      <td>24.0</td>\n",
       "      <td>31.0</td>\n",
       "      <td>2778.0</td>\n",
       "      <td>101.0</td>\n",
       "      <td>172.0</td>\n",
       "    </tr>\n",
       "    <tr>\n",
       "      <th>2</th>\n",
       "      <td>Acura</td>\n",
       "      <td>TSX 4dr</td>\n",
       "      <td>Sedan</td>\n",
       "      <td>Asia</td>\n",
       "      <td>Front</td>\n",
       "      <td>26990.0</td>\n",
       "      <td>24647.0</td>\n",
       "      <td>2.4</td>\n",
       "      <td>4.0</td>\n",
       "      <td>200.0</td>\n",
       "      <td>22.0</td>\n",
       "      <td>29.0</td>\n",
       "      <td>3230.0</td>\n",
       "      <td>105.0</td>\n",
       "      <td>183.0</td>\n",
       "    </tr>\n",
       "    <tr>\n",
       "      <th>3</th>\n",
       "      <td>Acura</td>\n",
       "      <td>TL 4dr</td>\n",
       "      <td>Sedan</td>\n",
       "      <td>Asia</td>\n",
       "      <td>Front</td>\n",
       "      <td>33195.0</td>\n",
       "      <td>30299.0</td>\n",
       "      <td>3.2</td>\n",
       "      <td>6.0</td>\n",
       "      <td>270.0</td>\n",
       "      <td>20.0</td>\n",
       "      <td>28.0</td>\n",
       "      <td>3575.0</td>\n",
       "      <td>108.0</td>\n",
       "      <td>186.0</td>\n",
       "    </tr>\n",
       "    <tr>\n",
       "      <th>4</th>\n",
       "      <td>Acura</td>\n",
       "      <td>3.5 RL 4dr</td>\n",
       "      <td>Sedan</td>\n",
       "      <td>Asia</td>\n",
       "      <td>Front</td>\n",
       "      <td>43755.0</td>\n",
       "      <td>39014.0</td>\n",
       "      <td>3.5</td>\n",
       "      <td>6.0</td>\n",
       "      <td>225.0</td>\n",
       "      <td>18.0</td>\n",
       "      <td>24.0</td>\n",
       "      <td>3880.0</td>\n",
       "      <td>115.0</td>\n",
       "      <td>197.0</td>\n",
       "    </tr>\n",
       "  </tbody>\n",
       "</table>\n",
       "</div>"
      ],
      "text/plain": [
       "    Make            Model   Type Origin DriveTrain     MSRP  Invoice  \\\n",
       "0  Acura              MDX    SUV   Asia        All  36945.0  33337.0   \n",
       "1  Acura   RSX Type S 2dr  Sedan   Asia      Front  23820.0  21761.0   \n",
       "2  Acura          TSX 4dr  Sedan   Asia      Front  26990.0  24647.0   \n",
       "3  Acura           TL 4dr  Sedan   Asia      Front  33195.0  30299.0   \n",
       "4  Acura       3.5 RL 4dr  Sedan   Asia      Front  43755.0  39014.0   \n",
       "\n",
       "   EngineSize  Cylinders  Horsepower  MPG_City  MPG_Highway  Weight  \\\n",
       "0         3.5        6.0       265.0      17.0         23.0  4451.0   \n",
       "1         2.0        4.0       200.0      24.0         31.0  2778.0   \n",
       "2         2.4        4.0       200.0      22.0         29.0  3230.0   \n",
       "3         3.2        6.0       270.0      20.0         28.0  3575.0   \n",
       "4         3.5        6.0       225.0      18.0         24.0  3880.0   \n",
       "\n",
       "   Wheelbase  Length  \n",
       "0      106.0   189.0  \n",
       "1      101.0   172.0  \n",
       "2      105.0   183.0  \n",
       "3      108.0   186.0  \n",
       "4      115.0   197.0  "
      ]
     },
     "execution_count": 39,
     "metadata": {},
     "output_type": "execute_result"
    }
   ],
   "source": [
    "car.head()"
   ]
  },
  {
   "cell_type": "code",
   "execution_count": 8,
   "metadata": {},
   "outputs": [
    {
     "data": {
      "text/plain": [
       "428"
      ]
     },
     "execution_count": 8,
     "metadata": {},
     "output_type": "execute_result"
    }
   ],
   "source": [
    "car.Make.count()"
   ]
  },
  {
   "cell_type": "code",
   "execution_count": 7,
   "metadata": {
    "scrolled": true
   },
   "outputs": [
    {
     "data": {
      "text/plain": [
       "Toyota           28\n",
       "Chevrolet        27\n",
       "Mercedes-Benz    26\n",
       "Ford             23\n",
       "BMW              20\n",
       "Audi             19\n",
       "Nissan           17\n",
       "Honda            17\n",
       "Chrysler         15\n",
       "Volkswagen       15\n",
       "Mitsubishi       13\n",
       "Dodge            13\n",
       "Jaguar           12\n",
       "Volvo            12\n",
       "Hyundai          12\n",
       "Lexus            11\n",
       "Kia              11\n",
       "Pontiac          11\n",
       "Mazda            11\n",
       "Subaru           11\n",
       "Lincoln           9\n",
       "Mercury           9\n",
       "Buick             9\n",
       "Cadillac          8\n",
       "GMC               8\n",
       "Infiniti          8\n",
       "Suzuki            8\n",
       "Saturn            8\n",
       "Saab              7\n",
       "Acura             7\n",
       "Porsche           7\n",
       "Jeep              3\n",
       "Oldsmobile        3\n",
       "Land Rover        3\n",
       "MINI              2\n",
       "Scion             2\n",
       "Isuzu             2\n",
       "Hummer            1\n",
       "Name: Make, dtype: int64"
      ]
     },
     "execution_count": 7,
     "metadata": {},
     "output_type": "execute_result"
    }
   ],
   "source": [
    "car.Make.value_counts()"
   ]
  },
  {
   "cell_type": "code",
   "execution_count": 19,
   "metadata": {},
   "outputs": [],
   "source": [
    "car_sed=car[car['Type']=='Sedan']"
   ]
  },
  {
   "cell_type": "code",
   "execution_count": 53,
   "metadata": {},
   "outputs": [
    {
     "data": {
      "text/plain": [
       "Mercedes-Benz    16\n",
       "Toyota           16\n",
       "Chevrolet        15\n",
       "BMW              13\n",
       "Audi             13\n",
       "Chrysler         13\n",
       "Honda            11\n",
       "Ford             11\n",
       "Volkswagen       11\n",
       "Hyundai          10\n",
       "Volvo             9\n",
       "Nissan            9\n",
       "Kia               9\n",
       "Dodge             8\n",
       "Jaguar            8\n",
       "Pontiac           8\n",
       "Lincoln           7\n",
       "Mercury           7\n",
       "Buick             7\n",
       "Lexus             6\n",
       "Infiniti          6\n",
       "Saturn            6\n",
       "Subaru            6\n",
       "Mitsubishi        6\n",
       "Saab              6\n",
       "Acura             5\n",
       "Suzuki            5\n",
       "Cadillac          4\n",
       "Mazda             4\n",
       "Oldsmobile        3\n",
       "MINI              2\n",
       "GMC               1\n",
       "Scion             1\n",
       "Name: Make, dtype: int64"
      ]
     },
     "execution_count": 53,
     "metadata": {},
     "output_type": "execute_result"
    }
   ],
   "source": [
    "car_sed.Make.value_counts()"
   ]
  },
  {
   "cell_type": "code",
   "execution_count": 40,
   "metadata": {},
   "outputs": [],
   "source": [
    "ts=car[(car['Make']=='Toyota') & (car['Type']=='Sedan')]"
   ]
  },
  {
   "cell_type": "code",
   "execution_count": 46,
   "metadata": {},
   "outputs": [],
   "source": [
    "ts=car[(car['Make']=='Toyota') & (car['Type']=='Sedan')][['MSRP']]"
   ]
  },
  {
   "cell_type": "code",
   "execution_count": 48,
   "metadata": {},
   "outputs": [],
   "source": [
    "ms=car[(car['Make']=='Mercedes-Benz') & (car['Type']=='Sedan')][['MSRP']]"
   ]
  },
  {
   "cell_type": "code",
   "execution_count": 50,
   "metadata": {},
   "outputs": [],
   "source": [
    "cs=car[(car['Make']=='Chevrolet') & (car['Type']=='Sedan')][['MSRP']]"
   ]
  },
  {
   "cell_type": "code",
   "execution_count": 52,
   "metadata": {},
   "outputs": [
    {
     "data": {
      "text/plain": [
       "F_onewayResult(statistic=array([20.83851216]), pvalue=array([4.29479703e-07]))"
      ]
     },
     "execution_count": 52,
     "metadata": {},
     "output_type": "execute_result"
    }
   ],
   "source": [
    "st.f_oneway(ts,ms,cs)"
   ]
  },
  {
   "cell_type": "code",
   "execution_count": 20,
   "metadata": {},
   "outputs": [
    {
     "data": {
      "text/plain": [
       "Mercedes-Benz    16\n",
       "Toyota           16\n",
       "Chevrolet        15\n",
       "BMW              13\n",
       "Audi             13\n",
       "Chrysler         13\n",
       "Honda            11\n",
       "Ford             11\n",
       "Volkswagen       11\n",
       "Hyundai          10\n",
       "Volvo             9\n",
       "Nissan            9\n",
       "Kia               9\n",
       "Dodge             8\n",
       "Jaguar            8\n",
       "Pontiac           8\n",
       "Lincoln           7\n",
       "Mercury           7\n",
       "Buick             7\n",
       "Lexus             6\n",
       "Infiniti          6\n",
       "Saturn            6\n",
       "Subaru            6\n",
       "Mitsubishi        6\n",
       "Saab              6\n",
       "Acura             5\n",
       "Suzuki            5\n",
       "Cadillac          4\n",
       "Mazda             4\n",
       "Oldsmobile        3\n",
       "MINI              2\n",
       "GMC               1\n",
       "Scion             1\n",
       "Name: Make, dtype: int64"
      ]
     },
     "execution_count": 20,
     "metadata": {},
     "output_type": "execute_result"
    }
   ],
   "source": [
    "car_sed.Make.value_counts()"
   ]
  },
  {
   "cell_type": "code",
   "execution_count": 17,
   "metadata": {},
   "outputs": [],
   "source": [
    "hp=pd.read_csv('Lesson 10 Regression Analysis Ex 1.csv')"
   ]
  },
  {
   "cell_type": "code",
   "execution_count": 18,
   "metadata": {},
   "outputs": [
    {
     "data": {
      "text/html": [
       "<div>\n",
       "<style scoped>\n",
       "    .dataframe tbody tr th:only-of-type {\n",
       "        vertical-align: middle;\n",
       "    }\n",
       "\n",
       "    .dataframe tbody tr th {\n",
       "        vertical-align: top;\n",
       "    }\n",
       "\n",
       "    .dataframe thead th {\n",
       "        text-align: right;\n",
       "    }\n",
       "</style>\n",
       "<table border=\"1\" class=\"dataframe\">\n",
       "  <thead>\n",
       "    <tr style=\"text-align: right;\">\n",
       "      <th></th>\n",
       "      <th>Price</th>\n",
       "      <th>LivingArea</th>\n",
       "      <th>Bathrooms</th>\n",
       "      <th>Bedrooms</th>\n",
       "      <th>LotSize</th>\n",
       "      <th>Age</th>\n",
       "      <th>Fireplace</th>\n",
       "    </tr>\n",
       "  </thead>\n",
       "  <tbody>\n",
       "    <tr>\n",
       "      <th>0</th>\n",
       "      <td>16858</td>\n",
       "      <td>1629</td>\n",
       "      <td>1.0</td>\n",
       "      <td>3</td>\n",
       "      <td>0.76</td>\n",
       "      <td>180</td>\n",
       "      <td>0</td>\n",
       "    </tr>\n",
       "    <tr>\n",
       "      <th>1</th>\n",
       "      <td>26049</td>\n",
       "      <td>1344</td>\n",
       "      <td>2.0</td>\n",
       "      <td>3</td>\n",
       "      <td>0.92</td>\n",
       "      <td>13</td>\n",
       "      <td>0</td>\n",
       "    </tr>\n",
       "    <tr>\n",
       "      <th>2</th>\n",
       "      <td>26130</td>\n",
       "      <td>822</td>\n",
       "      <td>1.0</td>\n",
       "      <td>2</td>\n",
       "      <td>0.56</td>\n",
       "      <td>173</td>\n",
       "      <td>0</td>\n",
       "    </tr>\n",
       "    <tr>\n",
       "      <th>3</th>\n",
       "      <td>31113</td>\n",
       "      <td>1540</td>\n",
       "      <td>1.0</td>\n",
       "      <td>2</td>\n",
       "      <td>0.04</td>\n",
       "      <td>115</td>\n",
       "      <td>0</td>\n",
       "    </tr>\n",
       "    <tr>\n",
       "      <th>4</th>\n",
       "      <td>40932</td>\n",
       "      <td>1320</td>\n",
       "      <td>1.0</td>\n",
       "      <td>3</td>\n",
       "      <td>0.17</td>\n",
       "      <td>90</td>\n",
       "      <td>0</td>\n",
       "    </tr>\n",
       "  </tbody>\n",
       "</table>\n",
       "</div>"
      ],
      "text/plain": [
       "   Price  LivingArea  Bathrooms  Bedrooms  LotSize  Age  Fireplace\n",
       "0  16858        1629        1.0         3     0.76  180          0\n",
       "1  26049        1344        2.0         3     0.92   13          0\n",
       "2  26130         822        1.0         2     0.56  173          0\n",
       "3  31113        1540        1.0         2     0.04  115          0\n",
       "4  40932        1320        1.0         3     0.17   90          0"
      ]
     },
     "execution_count": 18,
     "metadata": {},
     "output_type": "execute_result"
    }
   ],
   "source": [
    "hp.head()"
   ]
  },
  {
   "cell_type": "code",
   "execution_count": 15,
   "metadata": {},
   "outputs": [
    {
     "ename": "NameError",
     "evalue": "name 'hp' is not defined",
     "output_type": "error",
     "traceback": [
      "\u001b[1;31m---------------------------------------------------------------------------\u001b[0m",
      "\u001b[1;31mNameError\u001b[0m                                 Traceback (most recent call last)",
      "\u001b[1;32m<ipython-input-15-e57ca630d7b1>\u001b[0m in \u001b[0;36m<module>\u001b[1;34m\u001b[0m\n\u001b[1;32m----> 1\u001b[1;33m \u001b[0mhp\u001b[0m\u001b[1;33m.\u001b[0m\u001b[0mplot\u001b[0m\u001b[1;33m(\u001b[0m\u001b[0mkind\u001b[0m\u001b[1;33m=\u001b[0m\u001b[1;34m\"scatter\"\u001b[0m\u001b[1;33m,\u001b[0m\u001b[0mx\u001b[0m\u001b[1;33m=\u001b[0m\u001b[1;34m\"LivingArea\"\u001b[0m\u001b[1;33m,\u001b[0m\u001b[0my\u001b[0m\u001b[1;33m=\u001b[0m\u001b[1;34m\"Price\"\u001b[0m\u001b[1;33m,\u001b[0m\u001b[0mfigsize\u001b[0m\u001b[1;33m=\u001b[0m\u001b[1;33m(\u001b[0m\u001b[1;36m8\u001b[0m\u001b[1;33m,\u001b[0m\u001b[1;36m8\u001b[0m\u001b[1;33m)\u001b[0m\u001b[1;33m,\u001b[0m\u001b[0mcolor\u001b[0m\u001b[1;33m=\u001b[0m\u001b[1;34m\"blue\"\u001b[0m\u001b[1;33m)\u001b[0m\u001b[1;33m\u001b[0m\u001b[1;33m\u001b[0m\u001b[0m\n\u001b[0m",
      "\u001b[1;31mNameError\u001b[0m: name 'hp' is not defined"
     ]
    }
   ],
   "source": [
    "hp.plot(kind=\"scatter\",x=\"LivingArea\",y=\"Price\",figsize=(8,8),color=\"blue\")"
   ]
  },
  {
   "cell_type": "code",
   "execution_count": 20,
   "metadata": {},
   "outputs": [
    {
     "data": {
      "text/plain": [
       "<matplotlib.axes._subplots.AxesSubplot at 0x1c0cc3681f0>"
      ]
     },
     "execution_count": 20,
     "metadata": {},
     "output_type": "execute_result"
    },
    {
     "data": {
      "image/png": "[encoded data removed]",
      "text/plain": [
       "<Figure size 576x576 with 1 Axes>"
      ]
     },
     "metadata": {
      "needs_background": "light"
     },
     "output_type": "display_data"
    }
   ],
   "source": [
    "hp.plot(kind=\"scatter\",x=\"Age\",y=\"Price\",figsize=(8,8),color=\"green\")"
   ]
  },
  {
   "cell_type": "code",
   "execution_count": 21,
   "metadata": {},
   "outputs": [
    {
     "data": {
      "text/html": [
       "<div>\n",
       "<style scoped>\n",
       "    .dataframe tbody tr th:only-of-type {\n",
       "        vertical-align: middle;\n",
       "    }\n",
       "\n",
       "    .dataframe tbody tr th {\n",
       "        vertical-align: top;\n",
       "    }\n",
       "\n",
       "    .dataframe thead th {\n",
       "        text-align: right;\n",
       "    }\n",
       "</style>\n",
       "<table border=\"1\" class=\"dataframe\">\n",
       "  <thead>\n",
       "    <tr style=\"text-align: right;\">\n",
       "      <th></th>\n",
       "      <th>Price</th>\n",
       "      <th>LivingArea</th>\n",
       "      <th>Bathrooms</th>\n",
       "      <th>Bedrooms</th>\n",
       "      <th>LotSize</th>\n",
       "      <th>Age</th>\n",
       "      <th>Fireplace</th>\n",
       "    </tr>\n",
       "  </thead>\n",
       "  <tbody>\n",
       "    <tr>\n",
       "      <th>Price</th>\n",
       "      <td>1.000000</td>\n",
       "      <td>0.776396</td>\n",
       "      <td>0.670189</td>\n",
       "      <td>0.471074</td>\n",
       "      <td>0.155284</td>\n",
       "      <td>-0.363354</td>\n",
       "      <td>0.460237</td>\n",
       "    </tr>\n",
       "    <tr>\n",
       "      <th>LivingArea</th>\n",
       "      <td>0.776396</td>\n",
       "      <td>1.000000</td>\n",
       "      <td>0.722649</td>\n",
       "      <td>0.664347</td>\n",
       "      <td>0.200180</td>\n",
       "      <td>-0.263168</td>\n",
       "      <td>0.481436</td>\n",
       "    </tr>\n",
       "    <tr>\n",
       "      <th>Bathrooms</th>\n",
       "      <td>0.670189</td>\n",
       "      <td>0.722649</td>\n",
       "      <td>1.000000</td>\n",
       "      <td>0.491798</td>\n",
       "      <td>0.100993</td>\n",
       "      <td>-0.443830</td>\n",
       "      <td>0.444700</td>\n",
       "    </tr>\n",
       "    <tr>\n",
       "      <th>Bedrooms</th>\n",
       "      <td>0.471074</td>\n",
       "      <td>0.664347</td>\n",
       "      <td>0.491798</td>\n",
       "      <td>1.000000</td>\n",
       "      <td>0.140682</td>\n",
       "      <td>-0.060598</td>\n",
       "      <td>0.295873</td>\n",
       "    </tr>\n",
       "    <tr>\n",
       "      <th>LotSize</th>\n",
       "      <td>0.155284</td>\n",
       "      <td>0.200180</td>\n",
       "      <td>0.100993</td>\n",
       "      <td>0.140682</td>\n",
       "      <td>1.000000</td>\n",
       "      <td>0.015135</td>\n",
       "      <td>0.052765</td>\n",
       "    </tr>\n",
       "    <tr>\n",
       "      <th>Age</th>\n",
       "      <td>-0.363354</td>\n",
       "      <td>-0.263168</td>\n",
       "      <td>-0.443830</td>\n",
       "      <td>-0.060598</td>\n",
       "      <td>0.015135</td>\n",
       "      <td>1.000000</td>\n",
       "      <td>-0.248794</td>\n",
       "    </tr>\n",
       "    <tr>\n",
       "      <th>Fireplace</th>\n",
       "      <td>0.460237</td>\n",
       "      <td>0.481436</td>\n",
       "      <td>0.444700</td>\n",
       "      <td>0.295873</td>\n",
       "      <td>0.052765</td>\n",
       "      <td>-0.248794</td>\n",
       "      <td>1.000000</td>\n",
       "    </tr>\n",
       "  </tbody>\n",
       "</table>\n",
       "</div>"
      ],
      "text/plain": [
       "               Price  LivingArea  Bathrooms  Bedrooms   LotSize       Age  \\\n",
       "Price       1.000000    0.776396   0.670189  0.471074  0.155284 -0.363354   \n",
       "LivingArea  0.776396    1.000000   0.722649  0.664347  0.200180 -0.263168   \n",
       "Bathrooms   0.670189    0.722649   1.000000  0.491798  0.100993 -0.443830   \n",
       "Bedrooms    0.471074    0.664347   0.491798  1.000000  0.140682 -0.060598   \n",
       "LotSize     0.155284    0.200180   0.100993  0.140682  1.000000  0.015135   \n",
       "Age        -0.363354   -0.263168  -0.443830 -0.060598  0.015135  1.000000   \n",
       "Fireplace   0.460237    0.481436   0.444700  0.295873  0.052765 -0.248794   \n",
       "\n",
       "            Fireplace  \n",
       "Price        0.460237  \n",
       "LivingArea   0.481436  \n",
       "Bathrooms    0.444700  \n",
       "Bedrooms     0.295873  \n",
       "LotSize      0.052765  \n",
       "Age         -0.248794  \n",
       "Fireplace    1.000000  "
      ]
     },
     "execution_count": 21,
     "metadata": {},
     "output_type": "execute_result"
    }
   ],
   "source": [
    "corr_coef=hp.corr()\n",
    "corr_coef"
   ]
  },
  {
   "cell_type": "code",
   "execution_count": 22,
   "metadata": {},
   "outputs": [
    {
     "data": {
      "text/plain": [
       "0.7763964501037223"
      ]
     },
     "execution_count": 22,
     "metadata": {},
     "output_type": "execute_result"
    }
   ],
   "source": [
    "hp.Price.corr(hp.LivingArea)"
   ]
  },
  {
   "cell_type": "code",
   "execution_count": 23,
   "metadata": {},
   "outputs": [
    {
     "data": {
      "text/plain": [
       "array([[<matplotlib.axes._subplots.AxesSubplot object at 0x000001C0CC3A3A30>,\n",
       "        <matplotlib.axes._subplots.AxesSubplot object at 0x000001C0CC41DFA0>,\n",
       "        <matplotlib.axes._subplots.AxesSubplot object at 0x000001C0CC454460>,\n",
       "        <matplotlib.axes._subplots.AxesSubplot object at 0x000001C0CC4818E0>,\n",
       "        <matplotlib.axes._subplots.AxesSubplot object at 0x000001C0CC4AED90>,\n",
       "        <matplotlib.axes._subplots.AxesSubplot object at 0x000001C0CCB651C0>,\n",
       "        <matplotlib.axes._subplots.AxesSubplot object at 0x000001C0CCB652B0>],\n",
       "       [<matplotlib.axes._subplots.AxesSubplot object at 0x000001C0CCB94760>,\n",
       "        <matplotlib.axes._subplots.AxesSubplot object at 0x000001C0CCBECFA0>,\n",
       "        <matplotlib.axes._subplots.AxesSubplot object at 0x000001C0CCC25430>,\n",
       "        <matplotlib.axes._subplots.AxesSubplot object at 0x000001C0CCC51880>,\n",
       "        <matplotlib.axes._subplots.AxesSubplot object at 0x000001C0CCC7ED00>,\n",
       "        <matplotlib.axes._subplots.AxesSubplot object at 0x000001C0CCCB71C0>,\n",
       "        <matplotlib.axes._subplots.AxesSubplot object at 0x000001C0CCCE6610>],\n",
       "       [<matplotlib.axes._subplots.AxesSubplot object at 0x000001C0CCD12A60>,\n",
       "        <matplotlib.axes._subplots.AxesSubplot object at 0x000001C0CCD40F10>,\n",
       "        <matplotlib.axes._subplots.AxesSubplot object at 0x000001C0CCD783A0>,\n",
       "        <matplotlib.axes._subplots.AxesSubplot object at 0x000001C0CCDA47F0>,\n",
       "        <matplotlib.axes._subplots.AxesSubplot object at 0x000001C0CCDD0C70>,\n",
       "        <matplotlib.axes._subplots.AxesSubplot object at 0x000001C0CCDFD160>,\n",
       "        <matplotlib.axes._subplots.AxesSubplot object at 0x000001C0CDE07550>],\n",
       "       [<matplotlib.axes._subplots.AxesSubplot object at 0x000001C0CDE339A0>,\n",
       "        <matplotlib.axes._subplots.AxesSubplot object at 0x000001C0CDE60DF0>,\n",
       "        <matplotlib.axes._subplots.AxesSubplot object at 0x000001C0CDE9A280>,\n",
       "        <matplotlib.axes._subplots.AxesSubplot object at 0x000001C0CDEC86D0>,\n",
       "        <matplotlib.axes._subplots.AxesSubplot object at 0x000001C0CDEF3B20>,\n",
       "        <matplotlib.axes._subplots.AxesSubplot object at 0x000001C0CDF23A60>,\n",
       "        <matplotlib.axes._subplots.AxesSubplot object at 0x000001C0CDF5A220>],\n",
       "       [<matplotlib.axes._subplots.AxesSubplot object at 0x000001C0CDF829A0>,\n",
       "        <matplotlib.axes._subplots.AxesSubplot object at 0x000001C0CDFBC160>,\n",
       "        <matplotlib.axes._subplots.AxesSubplot object at 0x000001C0CDFE58E0>,\n",
       "        <matplotlib.axes._subplots.AxesSubplot object at 0x000001C0CE00D100>,\n",
       "        <matplotlib.axes._subplots.AxesSubplot object at 0x000001C0CE043820>,\n",
       "        <matplotlib.axes._subplots.AxesSubplot object at 0x000001C0CE06CFA0>,\n",
       "        <matplotlib.axes._subplots.AxesSubplot object at 0x000001C0CE0A2790>],\n",
       "       [<matplotlib.axes._subplots.AxesSubplot object at 0x000001C0CE0CCF10>,\n",
       "        <matplotlib.axes._subplots.AxesSubplot object at 0x000001C0CE0FF700>,\n",
       "        <matplotlib.axes._subplots.AxesSubplot object at 0x000001C0CE12BEB0>,\n",
       "        <matplotlib.axes._subplots.AxesSubplot object at 0x000001C0CE162670>,\n",
       "        <matplotlib.axes._subplots.AxesSubplot object at 0x000001C0CE18BDF0>,\n",
       "        <matplotlib.axes._subplots.AxesSubplot object at 0x000001C0CE1C15B0>,\n",
       "        <matplotlib.axes._subplots.AxesSubplot object at 0x000001C0CE1EDD30>],\n",
       "       [<matplotlib.axes._subplots.AxesSubplot object at 0x000001C0CE2214F0>,\n",
       "        <matplotlib.axes._subplots.AxesSubplot object at 0x000001C0CE24AC70>,\n",
       "        <matplotlib.axes._subplots.AxesSubplot object at 0x000001C0CE27F430>,\n",
       "        <matplotlib.axes._subplots.AxesSubplot object at 0x000001C0CE2A8BB0>,\n",
       "        <matplotlib.axes._subplots.AxesSubplot object at 0x000001C0CE2DF370>,\n",
       "        <matplotlib.axes._subplots.AxesSubplot object at 0x000001C0CC4D2970>,\n",
       "        <matplotlib.axes._subplots.AxesSubplot object at 0x000001C0CCB6F640>]],\n",
       "      dtype=object)"
      ]
     },
     "execution_count": 23,
     "metadata": {},
     "output_type": "execute_result"
    },
    {
     "data": {
      "image/png": "[encoded data removed]",
      "text/plain": [
       "<Figure size 720x720 with 49 Axes>"
      ]
     },
     "metadata": {
      "needs_background": "light"
     },
     "output_type": "display_data"
    }
   ],
   "source": [
    "import pandas.plotting as plt2\n",
    "plt2.scatter_matrix(hp,figsize=(10,10),color='green')"
   ]
  },
  {
   "cell_type": "code",
   "execution_count": 19,
   "metadata": {},
   "outputs": [],
   "source": [
    "countries=['a','b','b','c']\n",
    "population=[100,834,434,90]"
   ]
  },
  {
   "cell_type": "code",
   "execution_count": 20,
   "metadata": {},
   "outputs": [],
   "source": [
    "t=countries.index('b')"
   ]
  },
  {
   "cell_type": "code",
   "execution_count": 21,
   "metadata": {},
   "outputs": [
    {
     "data": {
      "text/plain": [
       "834"
      ]
     },
     "execution_count": 21,
     "metadata": {},
     "output_type": "execute_result"
    }
   ],
   "source": [
    "population[t]"
   ]
  },
  {
   "cell_type": "code",
   "execution_count": 7,
   "metadata": {},
   "outputs": [],
   "source": [
    "countries=population"
   ]
  },
  {
   "cell_type": "code",
   "execution_count": 8,
   "metadata": {},
   "outputs": [
    {
     "data": {
      "text/plain": [
       "[100, 234, 434]"
      ]
     },
     "execution_count": 8,
     "metadata": {},
     "output_type": "execute_result"
    }
   ],
   "source": [
    "population"
   ]
  },
  {
   "cell_type": "code",
   "execution_count": 9,
   "metadata": {},
   "outputs": [
    {
     "data": {
      "text/plain": [
       "[100, 234, 434]"
      ]
     },
     "execution_count": 9,
     "metadata": {},
     "output_type": "execute_result"
    }
   ],
   "source": [
    "countries"
   ]
  },
  {
   "cell_type": "code",
   "execution_count": 22,
   "metadata": {},
   "outputs": [],
   "source": [
    "world={'a':200,'b':547,'c':654}"
   ]
  },
  {
   "cell_type": "code",
   "execution_count": 26,
   "metadata": {},
   "outputs": [],
   "source": [
    "world['d']=world['c']+world['a']"
   ]
  },
  {
   "cell_type": "code",
   "execution_count": 27,
   "metadata": {},
   "outputs": [
    {
     "data": {
      "text/plain": [
       "{'a': 200, 'b': 547, 'c': 654, 'd': 854}"
      ]
     },
     "execution_count": 27,
     "metadata": {},
     "output_type": "execute_result"
    }
   ],
   "source": [
    "world"
   ]
  },
  {
   "cell_type": "code",
   "execution_count": 28,
   "metadata": {},
   "outputs": [],
   "source": [
    "del(world['b'])"
   ]
  },
  {
   "cell_type": "code",
   "execution_count": 29,
   "metadata": {},
   "outputs": [
    {
     "data": {
      "text/plain": [
       "{'a': 200, 'c': 654, 'd': 854}"
      ]
     },
     "execution_count": 29,
     "metadata": {},
     "output_type": "execute_result"
    }
   ],
   "source": [
    "world"
   ]
  },
  {
   "cell_type": "code",
   "execution_count": 30,
   "metadata": {},
   "outputs": [],
   "source": [
    "world['b'] = 989"
   ]
  },
  {
   "cell_type": "code",
   "execution_count": 31,
   "metadata": {},
   "outputs": [
    {
     "data": {
      "text/plain": [
       "{'a': 200, 'c': 654, 'd': 854, 'b': 989}"
      ]
     },
     "execution_count": 31,
     "metadata": {},
     "output_type": "execute_result"
    }
   ],
   "source": [
    "world"
   ]
  },
  {
   "cell_type": "code",
   "execution_count": 32,
   "metadata": {},
   "outputs": [],
   "source": [
    "world.update({'d':600,'e':700,'f':800})"
   ]
  },
  {
   "cell_type": "code",
   "execution_count": 33,
   "metadata": {},
   "outputs": [
    {
     "data": {
      "text/plain": [
       "{'a': 200, 'c': 654, 'd': 600, 'b': 989, 'e': 700, 'f': 800}"
      ]
     },
     "execution_count": 33,
     "metadata": {},
     "output_type": "execute_result"
    }
   ],
   "source": [
    "world"
   ]
  },
  {
   "cell_type": "code",
   "execution_count": 42,
   "metadata": {},
   "outputs": [
    {
     "name": "stdout",
     "output_type": "stream",
     "text": [
      "Enter the number\n",
      "45\n",
      "45\n"
     ]
    }
   ],
   "source": [
    "print(\"Enter the number\")\n",
    "n = input()\n",
    "c = int(n)\n",
    "print(c)\n"
   ]
  },
  {
   "cell_type": "code",
   "execution_count": 46,
   "metadata": {},
   "outputs": [
    {
     "name": "stdout",
     "output_type": "stream",
     "text": [
      "12\n",
      "34\n",
      "65\n"
     ]
    }
   ],
   "source": [
    "p=[12,34,65]\n",
    "for i in range(len(p)):\n",
    "    print(p[i])\n",
    "    \n",
    "    \n"
   ]
  },
  {
   "cell_type": "code",
   "execution_count": 54,
   "metadata": {},
   "outputs": [
    {
     "name": "stdout",
     "output_type": "stream",
     "text": [
      "34\n",
      "23\n",
      "67\n",
      "12\n",
      "78\n",
      "34  23  67  12  78  "
     ]
    }
   ],
   "source": [
    "p=[]\n",
    "for i in range(5):\n",
    "    num = int(input())\n",
    "    p.append(num)\n",
    "    \n",
    "for k in range(5):\n",
    "    print(p[k],\" \",end=\"\")"
   ]
  },
  {
   "cell_type": "code",
   "execution_count": 2,
   "metadata": {},
   "outputs": [],
   "source": [
    "college=pd.read_csv('college.csv')"
   ]
  },
  {
   "cell_type": "code",
   "execution_count": 3,
   "metadata": {},
   "outputs": [
    {
     "data": {
      "text/html": [
       "<div>\n",
       "<style scoped>\n",
       "    .dataframe tbody tr th:only-of-type {\n",
       "        vertical-align: middle;\n",
       "    }\n",
       "\n",
       "    .dataframe tbody tr th {\n",
       "        vertical-align: top;\n",
       "    }\n",
       "\n",
       "    .dataframe thead th {\n",
       "        text-align: right;\n",
       "    }\n",
       "</style>\n",
       "<table border=\"1\" class=\"dataframe\">\n",
       "  <thead>\n",
       "    <tr style=\"text-align: right;\">\n",
       "      <th></th>\n",
       "      <th>ClassID</th>\n",
       "      <th>class_name</th>\n",
       "      <th>studentID</th>\n",
       "      <th>student_name</th>\n",
       "      <th>ClassID.1</th>\n",
       "      <th>perentage</th>\n",
       "    </tr>\n",
       "  </thead>\n",
       "  <tbody>\n",
       "    <tr>\n",
       "      <th>0</th>\n",
       "      <td>1</td>\n",
       "      <td>Databases</td>\n",
       "      <td>1</td>\n",
       "      <td>Niels</td>\n",
       "      <td>1</td>\n",
       "      <td>78</td>\n",
       "    </tr>\n",
       "    <tr>\n",
       "      <th>1</th>\n",
       "      <td>1</td>\n",
       "      <td>Databases</td>\n",
       "      <td>2</td>\n",
       "      <td>John</td>\n",
       "      <td>1</td>\n",
       "      <td>50</td>\n",
       "    </tr>\n",
       "    <tr>\n",
       "      <th>2</th>\n",
       "      <td>2</td>\n",
       "      <td>Backend</td>\n",
       "      <td>3</td>\n",
       "      <td>Maria</td>\n",
       "      <td>2</td>\n",
       "      <td>89</td>\n",
       "    </tr>\n",
       "    <tr>\n",
       "      <th>3</th>\n",
       "      <td>2</td>\n",
       "      <td>Backend</td>\n",
       "      <td>4</td>\n",
       "      <td>Tina</td>\n",
       "      <td>2</td>\n",
       "      <td>69</td>\n",
       "    </tr>\n",
       "  </tbody>\n",
       "</table>\n",
       "</div>"
      ],
      "text/plain": [
       "   ClassID class_name  studentID student_name  ClassID.1  perentage\n",
       "0        1  Databases          1        Niels          1         78\n",
       "1        1  Databases          2         John          1         50\n",
       "2        2    Backend          3        Maria          2         89\n",
       "3        2    Backend          4         Tina          2         69"
      ]
     },
     "execution_count": 3,
     "metadata": {},
     "output_type": "execute_result"
    }
   ],
   "source": [
    "college.head()"
   ]
  },
  {
   "cell_type": "code",
   "execution_count": 4,
   "metadata": {},
   "outputs": [
    {
     "data": {
      "text/html": [
       "<div>\n",
       "<style scoped>\n",
       "    .dataframe tbody tr th:only-of-type {\n",
       "        vertical-align: middle;\n",
       "    }\n",
       "\n",
       "    .dataframe tbody tr th {\n",
       "        vertical-align: top;\n",
       "    }\n",
       "\n",
       "    .dataframe thead th {\n",
       "        text-align: right;\n",
       "    }\n",
       "</style>\n",
       "<table border=\"1\" class=\"dataframe\">\n",
       "  <thead>\n",
       "    <tr style=\"text-align: right;\">\n",
       "      <th></th>\n",
       "      <th>ClassID</th>\n",
       "      <th>class_name</th>\n",
       "      <th>studentID</th>\n",
       "      <th>student_name</th>\n",
       "      <th>ClassID.1</th>\n",
       "      <th>perentage</th>\n",
       "    </tr>\n",
       "  </thead>\n",
       "  <tbody>\n",
       "    <tr>\n",
       "      <th>2</th>\n",
       "      <td>2</td>\n",
       "      <td>Backend</td>\n",
       "      <td>3</td>\n",
       "      <td>Maria</td>\n",
       "      <td>2</td>\n",
       "      <td>89</td>\n",
       "    </tr>\n",
       "    <tr>\n",
       "      <th>0</th>\n",
       "      <td>1</td>\n",
       "      <td>Databases</td>\n",
       "      <td>1</td>\n",
       "      <td>Niels</td>\n",
       "      <td>1</td>\n",
       "      <td>78</td>\n",
       "    </tr>\n",
       "    <tr>\n",
       "      <th>3</th>\n",
       "      <td>2</td>\n",
       "      <td>Backend</td>\n",
       "      <td>4</td>\n",
       "      <td>Tina</td>\n",
       "      <td>2</td>\n",
       "      <td>69</td>\n",
       "    </tr>\n",
       "    <tr>\n",
       "      <th>1</th>\n",
       "      <td>1</td>\n",
       "      <td>Databases</td>\n",
       "      <td>2</td>\n",
       "      <td>John</td>\n",
       "      <td>1</td>\n",
       "      <td>50</td>\n",
       "    </tr>\n",
       "  </tbody>\n",
       "</table>\n",
       "</div>"
      ],
      "text/plain": [
       "   ClassID class_name  studentID student_name  ClassID.1  perentage\n",
       "2        2    Backend          3        Maria          2         89\n",
       "0        1  Databases          1        Niels          1         78\n",
       "3        2    Backend          4         Tina          2         69\n",
       "1        1  Databases          2         John          1         50"
      ]
     },
     "execution_count": 4,
     "metadata": {},
     "output_type": "execute_result"
    }
   ],
   "source": [
    "college.sort_values(by=['perentage'],ascending=False,inplace=False)"
   ]
  },
  {
   "cell_type": "code",
   "execution_count": 9,
   "metadata": {},
   "outputs": [],
   "source": [
    "import pandas as pd"
   ]
  },
  {
   "cell_type": "code",
   "execution_count": 11,
   "metadata": {},
   "outputs": [
    {
     "name": "stdout",
     "output_type": "stream",
     "text": [
      "Corey.Schafer@company.com\n",
      "Swami.Shekhar@company.com\n",
      "Corey Schafer\n"
     ]
    }
   ],
   "source": [
    "class Employee:\n",
    "    def __init__(self,first,last,pay):\n",
    "        self.first=first\n",
    "        self.last=last\n",
    "        self.pay=pay\n",
    "        self.email=first+'.'+last+'@company.com'\n",
    "        \n",
    "emp_1=Employee('Corey','Schafer',50000)\n",
    "emp_2=Employee('Swami','Shekhar',90000)\n",
    "    \n",
    "print(emp_1.email)\n",
    "print(emp_2.email)\n",
    "\n",
    "print('{} {}'.format((emp_1.first),(emp_1.last)))"
   ]
  },
  {
   "cell_type": "code",
   "execution_count": 35,
   "metadata": {},
   "outputs": [],
   "source": [
    "import pandas as pd"
   ]
  },
  {
   "cell_type": "code",
   "execution_count": 2,
   "metadata": {},
   "outputs": [],
   "source": [
    "cls=pd.read_csv('Lesson 11 Classification Ex 1.csv')"
   ]
  },
  {
   "cell_type": "code",
   "execution_count": 4,
   "metadata": {},
   "outputs": [
    {
     "data": {
      "text/plain": [
       "(1000, 21)"
      ]
     },
     "execution_count": 4,
     "metadata": {},
     "output_type": "execute_result"
    }
   ],
   "source": [
    "cls.shape\n"
   ]
  },
  {
   "cell_type": "code",
   "execution_count": 5,
   "metadata": {},
   "outputs": [
    {
     "data": {
      "text/html": [
       "<div>\n",
       "<style scoped>\n",
       "    .dataframe tbody tr th:only-of-type {\n",
       "        vertical-align: middle;\n",
       "    }\n",
       "\n",
       "    .dataframe tbody tr th {\n",
       "        vertical-align: top;\n",
       "    }\n",
       "\n",
       "    .dataframe thead th {\n",
       "        text-align: right;\n",
       "    }\n",
       "</style>\n",
       "<table border=\"1\" class=\"dataframe\">\n",
       "  <thead>\n",
       "    <tr style=\"text-align: right;\">\n",
       "      <th></th>\n",
       "      <th>Default</th>\n",
       "      <th>checkingstatus1</th>\n",
       "      <th>duration</th>\n",
       "      <th>history</th>\n",
       "      <th>purpose</th>\n",
       "      <th>amount</th>\n",
       "      <th>savings</th>\n",
       "      <th>employ</th>\n",
       "      <th>installment</th>\n",
       "      <th>status</th>\n",
       "      <th>...</th>\n",
       "      <th>residence</th>\n",
       "      <th>property</th>\n",
       "      <th>age</th>\n",
       "      <th>otherplans</th>\n",
       "      <th>housing</th>\n",
       "      <th>cards</th>\n",
       "      <th>job</th>\n",
       "      <th>liable</th>\n",
       "      <th>tele</th>\n",
       "      <th>foreign</th>\n",
       "    </tr>\n",
       "  </thead>\n",
       "  <tbody>\n",
       "    <tr>\n",
       "      <th>0</th>\n",
       "      <td>0</td>\n",
       "      <td>A11</td>\n",
       "      <td>6</td>\n",
       "      <td>A34</td>\n",
       "      <td>A43</td>\n",
       "      <td>1169</td>\n",
       "      <td>A65</td>\n",
       "      <td>A75</td>\n",
       "      <td>4</td>\n",
       "      <td>A93</td>\n",
       "      <td>...</td>\n",
       "      <td>4</td>\n",
       "      <td>A121</td>\n",
       "      <td>67</td>\n",
       "      <td>A143</td>\n",
       "      <td>A152</td>\n",
       "      <td>2</td>\n",
       "      <td>A173</td>\n",
       "      <td>1</td>\n",
       "      <td>A192</td>\n",
       "      <td>A201</td>\n",
       "    </tr>\n",
       "    <tr>\n",
       "      <th>1</th>\n",
       "      <td>1</td>\n",
       "      <td>A12</td>\n",
       "      <td>48</td>\n",
       "      <td>A32</td>\n",
       "      <td>A43</td>\n",
       "      <td>5951</td>\n",
       "      <td>A61</td>\n",
       "      <td>A73</td>\n",
       "      <td>2</td>\n",
       "      <td>A92</td>\n",
       "      <td>...</td>\n",
       "      <td>2</td>\n",
       "      <td>A121</td>\n",
       "      <td>22</td>\n",
       "      <td>A143</td>\n",
       "      <td>A152</td>\n",
       "      <td>1</td>\n",
       "      <td>A173</td>\n",
       "      <td>1</td>\n",
       "      <td>A191</td>\n",
       "      <td>A201</td>\n",
       "    </tr>\n",
       "    <tr>\n",
       "      <th>2</th>\n",
       "      <td>0</td>\n",
       "      <td>A14</td>\n",
       "      <td>12</td>\n",
       "      <td>A34</td>\n",
       "      <td>A46</td>\n",
       "      <td>2096</td>\n",
       "      <td>A61</td>\n",
       "      <td>A74</td>\n",
       "      <td>2</td>\n",
       "      <td>A93</td>\n",
       "      <td>...</td>\n",
       "      <td>3</td>\n",
       "      <td>A121</td>\n",
       "      <td>49</td>\n",
       "      <td>A143</td>\n",
       "      <td>A152</td>\n",
       "      <td>1</td>\n",
       "      <td>A172</td>\n",
       "      <td>2</td>\n",
       "      <td>A191</td>\n",
       "      <td>A201</td>\n",
       "    </tr>\n",
       "    <tr>\n",
       "      <th>3</th>\n",
       "      <td>0</td>\n",
       "      <td>A11</td>\n",
       "      <td>42</td>\n",
       "      <td>A32</td>\n",
       "      <td>A42</td>\n",
       "      <td>7882</td>\n",
       "      <td>A61</td>\n",
       "      <td>A74</td>\n",
       "      <td>2</td>\n",
       "      <td>A93</td>\n",
       "      <td>...</td>\n",
       "      <td>4</td>\n",
       "      <td>A122</td>\n",
       "      <td>45</td>\n",
       "      <td>A143</td>\n",
       "      <td>A153</td>\n",
       "      <td>1</td>\n",
       "      <td>A173</td>\n",
       "      <td>2</td>\n",
       "      <td>A191</td>\n",
       "      <td>A201</td>\n",
       "    </tr>\n",
       "    <tr>\n",
       "      <th>4</th>\n",
       "      <td>1</td>\n",
       "      <td>A11</td>\n",
       "      <td>24</td>\n",
       "      <td>A33</td>\n",
       "      <td>A40</td>\n",
       "      <td>4870</td>\n",
       "      <td>A61</td>\n",
       "      <td>A73</td>\n",
       "      <td>3</td>\n",
       "      <td>A93</td>\n",
       "      <td>...</td>\n",
       "      <td>4</td>\n",
       "      <td>A124</td>\n",
       "      <td>53</td>\n",
       "      <td>A143</td>\n",
       "      <td>A153</td>\n",
       "      <td>2</td>\n",
       "      <td>A173</td>\n",
       "      <td>2</td>\n",
       "      <td>A191</td>\n",
       "      <td>A201</td>\n",
       "    </tr>\n",
       "  </tbody>\n",
       "</table>\n",
       "<p>5 rows × 21 columns</p>\n",
       "</div>"
      ],
      "text/plain": [
       "   Default checkingstatus1  duration history purpose  amount savings employ  \\\n",
       "0        0             A11         6     A34     A43    1169     A65    A75   \n",
       "1        1             A12        48     A32     A43    5951     A61    A73   \n",
       "2        0             A14        12     A34     A46    2096     A61    A74   \n",
       "3        0             A11        42     A32     A42    7882     A61    A74   \n",
       "4        1             A11        24     A33     A40    4870     A61    A73   \n",
       "\n",
       "   installment status  ... residence  property age  otherplans housing cards  \\\n",
       "0            4    A93  ...         4      A121  67        A143    A152     2   \n",
       "1            2    A92  ...         2      A121  22        A143    A152     1   \n",
       "2            2    A93  ...         3      A121  49        A143    A152     1   \n",
       "3            2    A93  ...         4      A122  45        A143    A153     1   \n",
       "4            3    A93  ...         4      A124  53        A143    A153     2   \n",
       "\n",
       "    job liable  tele foreign  \n",
       "0  A173      1  A192    A201  \n",
       "1  A173      1  A191    A201  \n",
       "2  A172      2  A191    A201  \n",
       "3  A173      2  A191    A201  \n",
       "4  A173      2  A191    A201  \n",
       "\n",
       "[5 rows x 21 columns]"
      ]
     },
     "execution_count": 5,
     "metadata": {},
     "output_type": "execute_result"
    }
   ],
   "source": [
    "cls.head()"
   ]
  },
  {
   "cell_type": "code",
   "execution_count": 6,
   "metadata": {},
   "outputs": [
    {
     "name": "stdout",
     "output_type": "stream",
     "text": [
      "<class 'pandas.core.frame.DataFrame'>\n",
      "RangeIndex: 1000 entries, 0 to 999\n",
      "Data columns (total 21 columns):\n",
      " #   Column           Non-Null Count  Dtype \n",
      "---  ------           --------------  ----- \n",
      " 0   Default          1000 non-null   int64 \n",
      " 1   checkingstatus1  1000 non-null   object\n",
      " 2   duration         1000 non-null   int64 \n",
      " 3   history          1000 non-null   object\n",
      " 4   purpose          1000 non-null   object\n",
      " 5   amount           1000 non-null   int64 \n",
      " 6   savings          1000 non-null   object\n",
      " 7   employ           1000 non-null   object\n",
      " 8   installment      1000 non-null   int64 \n",
      " 9   status           1000 non-null   object\n",
      " 10  others           1000 non-null   object\n",
      " 11  residence        1000 non-null   int64 \n",
      " 12  property         1000 non-null   object\n",
      " 13  age              1000 non-null   int64 \n",
      " 14  otherplans       1000 non-null   object\n",
      " 15  housing          1000 non-null   object\n",
      " 16  cards            1000 non-null   int64 \n",
      " 17  job              1000 non-null   object\n",
      " 18  liable           1000 non-null   int64 \n",
      " 19  tele             1000 non-null   object\n",
      " 20  foreign          1000 non-null   object\n",
      "dtypes: int64(8), object(13)\n",
      "memory usage: 164.2+ KB\n"
     ]
    }
   ],
   "source": [
    "cls.info()"
   ]
  },
  {
   "cell_type": "code",
   "execution_count": 7,
   "metadata": {},
   "outputs": [
    {
     "data": {
      "text/plain": [
       "Default             int64\n",
       "checkingstatus1    object\n",
       "duration            int64\n",
       "history            object\n",
       "purpose            object\n",
       "amount              int64\n",
       "savings            object\n",
       "employ             object\n",
       "installment         int64\n",
       "status             object\n",
       "others             object\n",
       "residence           int64\n",
       "property           object\n",
       "age                 int64\n",
       "otherplans         object\n",
       "housing            object\n",
       "cards               int64\n",
       "job                object\n",
       "liable              int64\n",
       "tele               object\n",
       "foreign            object\n",
       "dtype: object"
      ]
     },
     "execution_count": 7,
     "metadata": {},
     "output_type": "execute_result"
    }
   ],
   "source": [
    "cls.dtypes"
   ]
  },
  {
   "cell_type": "code",
   "execution_count": 8,
   "metadata": {},
   "outputs": [
    {
     "data": {
      "text/plain": [
       "0    700\n",
       "1    300\n",
       "Name: Default, dtype: int64"
      ]
     },
     "execution_count": 8,
     "metadata": {},
     "output_type": "execute_result"
    }
   ],
   "source": [
    "cls.Default.value_counts()"
   ]
  },
  {
   "cell_type": "code",
   "execution_count": 9,
   "metadata": {},
   "outputs": [
    {
     "data": {
      "text/plain": [
       "pandas.core.series.Series"
      ]
     },
     "execution_count": 9,
     "metadata": {},
     "output_type": "execute_result"
    }
   ],
   "source": [
    "type(cls.Default)"
   ]
  },
  {
   "cell_type": "code",
   "execution_count": 11,
   "metadata": {},
   "outputs": [],
   "source": [
    "class1_new=pd.concat((cls.Default,cls.duration,cls.installment),axis=1)"
   ]
  },
  {
   "cell_type": "code",
   "execution_count": 12,
   "metadata": {},
   "outputs": [
    {
     "data": {
      "text/html": [
       "<div>\n",
       "<style scoped>\n",
       "    .dataframe tbody tr th:only-of-type {\n",
       "        vertical-align: middle;\n",
       "    }\n",
       "\n",
       "    .dataframe tbody tr th {\n",
       "        vertical-align: top;\n",
       "    }\n",
       "\n",
       "    .dataframe thead th {\n",
       "        text-align: right;\n",
       "    }\n",
       "</style>\n",
       "<table border=\"1\" class=\"dataframe\">\n",
       "  <thead>\n",
       "    <tr style=\"text-align: right;\">\n",
       "      <th></th>\n",
       "      <th>Default</th>\n",
       "      <th>duration</th>\n",
       "      <th>installment</th>\n",
       "    </tr>\n",
       "  </thead>\n",
       "  <tbody>\n",
       "    <tr>\n",
       "      <th>0</th>\n",
       "      <td>0</td>\n",
       "      <td>6</td>\n",
       "      <td>4</td>\n",
       "    </tr>\n",
       "    <tr>\n",
       "      <th>1</th>\n",
       "      <td>1</td>\n",
       "      <td>48</td>\n",
       "      <td>2</td>\n",
       "    </tr>\n",
       "    <tr>\n",
       "      <th>2</th>\n",
       "      <td>0</td>\n",
       "      <td>12</td>\n",
       "      <td>2</td>\n",
       "    </tr>\n",
       "    <tr>\n",
       "      <th>3</th>\n",
       "      <td>0</td>\n",
       "      <td>42</td>\n",
       "      <td>2</td>\n",
       "    </tr>\n",
       "    <tr>\n",
       "      <th>4</th>\n",
       "      <td>1</td>\n",
       "      <td>24</td>\n",
       "      <td>3</td>\n",
       "    </tr>\n",
       "    <tr>\n",
       "      <th>...</th>\n",
       "      <td>...</td>\n",
       "      <td>...</td>\n",
       "      <td>...</td>\n",
       "    </tr>\n",
       "    <tr>\n",
       "      <th>995</th>\n",
       "      <td>0</td>\n",
       "      <td>12</td>\n",
       "      <td>3</td>\n",
       "    </tr>\n",
       "    <tr>\n",
       "      <th>996</th>\n",
       "      <td>0</td>\n",
       "      <td>30</td>\n",
       "      <td>4</td>\n",
       "    </tr>\n",
       "    <tr>\n",
       "      <th>997</th>\n",
       "      <td>0</td>\n",
       "      <td>12</td>\n",
       "      <td>4</td>\n",
       "    </tr>\n",
       "    <tr>\n",
       "      <th>998</th>\n",
       "      <td>1</td>\n",
       "      <td>45</td>\n",
       "      <td>4</td>\n",
       "    </tr>\n",
       "    <tr>\n",
       "      <th>999</th>\n",
       "      <td>0</td>\n",
       "      <td>45</td>\n",
       "      <td>3</td>\n",
       "    </tr>\n",
       "  </tbody>\n",
       "</table>\n",
       "<p>1000 rows × 3 columns</p>\n",
       "</div>"
      ],
      "text/plain": [
       "     Default  duration  installment\n",
       "0          0         6            4\n",
       "1          1        48            2\n",
       "2          0        12            2\n",
       "3          0        42            2\n",
       "4          1        24            3\n",
       "..       ...       ...          ...\n",
       "995        0        12            3\n",
       "996        0        30            4\n",
       "997        0        12            4\n",
       "998        1        45            4\n",
       "999        0        45            3\n",
       "\n",
       "[1000 rows x 3 columns]"
      ]
     },
     "execution_count": 12,
     "metadata": {},
     "output_type": "execute_result"
    }
   ],
   "source": [
    "class1_new"
   ]
  },
  {
   "cell_type": "code",
   "execution_count": 13,
   "metadata": {},
   "outputs": [],
   "source": [
    "from sklearn.model_selection import train_test_split\n",
    "class1_train,class1_test=train_test_split(cls,test_size=.30,random_state=12345)"
   ]
  },
  {
   "cell_type": "code",
   "execution_count": 14,
   "metadata": {},
   "outputs": [
    {
     "data": {
      "text/plain": [
       "(300, 21)"
      ]
     },
     "execution_count": 14,
     "metadata": {},
     "output_type": "execute_result"
    }
   ],
   "source": [
    "class1_test.shape"
   ]
  },
  {
   "cell_type": "code",
   "execution_count": 15,
   "metadata": {},
   "outputs": [
    {
     "data": {
      "text/plain": [
       "(700, 21)"
      ]
     },
     "execution_count": 15,
     "metadata": {},
     "output_type": "execute_result"
    }
   ],
   "source": [
    "class1_train.shape"
   ]
  },
  {
   "cell_type": "code",
   "execution_count": 27,
   "metadata": {},
   "outputs": [
    {
     "name": "stdout",
     "output_type": "stream",
     "text": [
      "(1, 'Niels', 1, 78, 1, 'Databases')\n",
      "(2, 'John', 1, 50, 1, 'Databases')\n",
      "(3, 'Maria', 2, 89, 2, 'Backend')\n",
      "(4, 'Tina', 2, 69, 2, 'Backend')\n",
      "(6, 'Mathur', 2, 70, 2, 'Backend')\n",
      "(7, 'Shekhar', 2, 83, 2, 'Backend')\n",
      "\n",
      "('Niels', 78)\n",
      "('John', 50)\n",
      "('Maria', 89)\n",
      "('Tina', 69)\n",
      "('Dam', 60)\n",
      "('Mathur', 70)\n",
      "('Shekhar', 83)\n"
     ]
    },
    {
     "ename": "IntegrityError",
     "evalue": "1062 (23000): Duplicate entry '7' for key 'student.PRIMARY'",
     "output_type": "error",
     "traceback": [
      "\u001b[1;31m---------------------------------------------------------------------------\u001b[0m",
      "\u001b[1;31mMySQLInterfaceError\u001b[0m                       Traceback (most recent call last)",
      "\u001b[1;32m~\\anaconda3\\lib\\site-packages\\mysql\\connector\\connection_cext.py\u001b[0m in \u001b[0;36mcmd_query\u001b[1;34m(self, query, raw, buffered, raw_as_string)\u001b[0m\n\u001b[0;32m    486\u001b[0m                 \u001b[0mquery\u001b[0m \u001b[1;33m=\u001b[0m \u001b[0mquery\u001b[0m\u001b[1;33m.\u001b[0m\u001b[0mencode\u001b[0m\u001b[1;33m(\u001b[0m\u001b[1;34m'utf-8'\u001b[0m\u001b[1;33m)\u001b[0m\u001b[1;33m\u001b[0m\u001b[1;33m\u001b[0m\u001b[0m\n\u001b[1;32m--> 487\u001b[1;33m             self._cmysql.query(query,\n\u001b[0m\u001b[0;32m    488\u001b[0m                                \u001b[0mraw\u001b[0m\u001b[1;33m=\u001b[0m\u001b[0mraw\u001b[0m\u001b[1;33m,\u001b[0m \u001b[0mbuffered\u001b[0m\u001b[1;33m=\u001b[0m\u001b[0mbuffered\u001b[0m\u001b[1;33m,\u001b[0m\u001b[1;33m\u001b[0m\u001b[1;33m\u001b[0m\u001b[0m\n",
      "\u001b[1;31mMySQLInterfaceError\u001b[0m: Duplicate entry '7' for key 'student.PRIMARY'",
      "\nDuring handling of the above exception, another exception occurred:\n",
      "\u001b[1;31mIntegrityError\u001b[0m                            Traceback (most recent call last)",
      "\u001b[1;32m<ipython-input-27-1ed9ea4cb207>\u001b[0m in \u001b[0;36m<module>\u001b[1;34m\u001b[0m\n\u001b[0;32m     18\u001b[0m \u001b[1;33m\u001b[0m\u001b[0m\n\u001b[0;32m     19\u001b[0m \u001b[0mmycursor2\u001b[0m \u001b[1;33m=\u001b[0m \u001b[0mmydb\u001b[0m\u001b[1;33m.\u001b[0m\u001b[0mcursor\u001b[0m\u001b[1;33m(\u001b[0m\u001b[1;33m)\u001b[0m\u001b[1;33m\u001b[0m\u001b[1;33m\u001b[0m\u001b[0m\n\u001b[1;32m---> 20\u001b[1;33m \u001b[0mmycursor2\u001b[0m\u001b[1;33m.\u001b[0m\u001b[0mexecute\u001b[0m\u001b[1;33m(\u001b[0m\u001b[1;34m\"insert into student(studentID,student_name,ClassID,perentage) values(7,'Shekhar',2,83)\"\u001b[0m\u001b[1;33m)\u001b[0m\u001b[1;33m\u001b[0m\u001b[1;33m\u001b[0m\u001b[0m\n\u001b[0m\u001b[0;32m     21\u001b[0m \u001b[1;32mfor\u001b[0m \u001b[0mz\u001b[0m \u001b[1;32min\u001b[0m \u001b[0mmycursor2\u001b[0m\u001b[1;33m:\u001b[0m\u001b[1;33m\u001b[0m\u001b[1;33m\u001b[0m\u001b[0m\n\u001b[0;32m     22\u001b[0m     \u001b[0mprint\u001b[0m\u001b[1;33m(\u001b[0m\u001b[0mz\u001b[0m\u001b[1;33m)\u001b[0m\u001b[1;33m\u001b[0m\u001b[1;33m\u001b[0m\u001b[0m\n",
      "\u001b[1;32m~\\anaconda3\\lib\\site-packages\\mysql\\connector\\cursor_cext.py\u001b[0m in \u001b[0;36mexecute\u001b[1;34m(self, operation, params, multi)\u001b[0m\n\u001b[0;32m    262\u001b[0m \u001b[1;33m\u001b[0m\u001b[0m\n\u001b[0;32m    263\u001b[0m         \u001b[1;32mtry\u001b[0m\u001b[1;33m:\u001b[0m\u001b[1;33m\u001b[0m\u001b[1;33m\u001b[0m\u001b[0m\n\u001b[1;32m--> 264\u001b[1;33m             result = self._cnx.cmd_query(stmt, raw=self._raw,\n\u001b[0m\u001b[0;32m    265\u001b[0m                                          \u001b[0mbuffered\u001b[0m\u001b[1;33m=\u001b[0m\u001b[0mself\u001b[0m\u001b[1;33m.\u001b[0m\u001b[0m_buffered\u001b[0m\u001b[1;33m,\u001b[0m\u001b[1;33m\u001b[0m\u001b[1;33m\u001b[0m\u001b[0m\n\u001b[0;32m    266\u001b[0m                                          raw_as_string=self._raw_as_string)\n",
      "\u001b[1;32m~\\anaconda3\\lib\\site-packages\\mysql\\connector\\connection_cext.py\u001b[0m in \u001b[0;36mcmd_query\u001b[1;34m(self, query, raw, buffered, raw_as_string)\u001b[0m\n\u001b[0;32m    489\u001b[0m                                raw_as_string=raw_as_string)\n\u001b[0;32m    490\u001b[0m         \u001b[1;32mexcept\u001b[0m \u001b[0mMySQLInterfaceError\u001b[0m \u001b[1;32mas\u001b[0m \u001b[0mexc\u001b[0m\u001b[1;33m:\u001b[0m\u001b[1;33m\u001b[0m\u001b[1;33m\u001b[0m\u001b[0m\n\u001b[1;32m--> 491\u001b[1;33m             raise errors.get_mysql_exception(exc.errno, msg=exc.msg,\n\u001b[0m\u001b[0;32m    492\u001b[0m                                              sqlstate=exc.sqlstate)\n\u001b[0;32m    493\u001b[0m         \u001b[1;32mexcept\u001b[0m \u001b[0mAttributeError\u001b[0m\u001b[1;33m:\u001b[0m\u001b[1;33m\u001b[0m\u001b[1;33m\u001b[0m\u001b[0m\n",
      "\u001b[1;31mIntegrityError\u001b[0m: 1062 (23000): Duplicate entry '7' for key 'student.PRIMARY'"
     ]
    }
   ],
   "source": [
    "import mysql.connector\n",
    "mydb = mysql.connector.connect(\n",
    "    \n",
    "  host=\"localhost\",\n",
    "  user=\"root\",\n",
    "  password=\"!Aworker2#\",\n",
    "  database='college'\n",
    ")\n",
    "mycursor = mydb.cursor()\n",
    "mycursor.execute(\"select * from student right join class on class.ClassID=student.ClassiD\")\n",
    "for x in mycursor:\n",
    "  print(x)\n",
    "print()\n",
    "mycursor1 = mydb.cursor()\n",
    "mycursor1.execute(\"select student_name,perentage from student\")\n",
    "for x in mycursor1:\n",
    "  print(x)\n",
    "\n",
    "mycursor2 = mydb.cursor()\n",
    "mycursor2.execute(\"insert into student(studentID,student_name,ClassID,perentage) values(7,'Shekhar',2,83)\")\n",
    "for z in mycursor2:\n",
    "    print(z)\n",
    "\n",
    "mydb.commit()"
   ]
  },
  {
   "cell_type": "code",
   "execution_count": 23,
   "metadata": {},
   "outputs": [
    {
     "ename": "ProgrammingError",
     "evalue": "1064 (42000): You have an error in your SQL syntax; check the manual that corresponds to your MySQL server version for the right syntax to use near 'outer join class on class.ClassID=student.ClassiD' at line 1",
     "output_type": "error",
     "traceback": [
      "\u001b[1;31m---------------------------------------------------------------------------\u001b[0m",
      "\u001b[1;31mMySQLInterfaceError\u001b[0m                       Traceback (most recent call last)",
      "\u001b[1;32m~\\anaconda3\\lib\\site-packages\\mysql\\connector\\connection_cext.py\u001b[0m in \u001b[0;36mcmd_query\u001b[1;34m(self, query, raw, buffered, raw_as_string)\u001b[0m\n\u001b[0;32m    486\u001b[0m                 \u001b[0mquery\u001b[0m \u001b[1;33m=\u001b[0m \u001b[0mquery\u001b[0m\u001b[1;33m.\u001b[0m\u001b[0mencode\u001b[0m\u001b[1;33m(\u001b[0m\u001b[1;34m'utf-8'\u001b[0m\u001b[1;33m)\u001b[0m\u001b[1;33m\u001b[0m\u001b[1;33m\u001b[0m\u001b[0m\n\u001b[1;32m--> 487\u001b[1;33m             self._cmysql.query(query,\n\u001b[0m\u001b[0;32m    488\u001b[0m                                \u001b[0mraw\u001b[0m\u001b[1;33m=\u001b[0m\u001b[0mraw\u001b[0m\u001b[1;33m,\u001b[0m \u001b[0mbuffered\u001b[0m\u001b[1;33m=\u001b[0m\u001b[0mbuffered\u001b[0m\u001b[1;33m,\u001b[0m\u001b[1;33m\u001b[0m\u001b[1;33m\u001b[0m\u001b[0m\n",
      "\u001b[1;31mMySQLInterfaceError\u001b[0m: You have an error in your SQL syntax; check the manual that corresponds to your MySQL server version for the right syntax to use near 'outer join class on class.ClassID=student.ClassiD' at line 1",
      "\nDuring handling of the above exception, another exception occurred:\n",
      "\u001b[1;31mProgrammingError\u001b[0m                          Traceback (most recent call last)",
      "\u001b[1;32m<ipython-input-23-030745ae7ae4>\u001b[0m in \u001b[0;36m<module>\u001b[1;34m\u001b[0m\n\u001b[0;32m      7\u001b[0m )\n\u001b[0;32m      8\u001b[0m \u001b[0mmycursor\u001b[0m \u001b[1;33m=\u001b[0m \u001b[0mmydb\u001b[0m\u001b[1;33m.\u001b[0m\u001b[0mcursor\u001b[0m\u001b[1;33m(\u001b[0m\u001b[1;33m)\u001b[0m\u001b[1;33m\u001b[0m\u001b[1;33m\u001b[0m\u001b[0m\n\u001b[1;32m----> 9\u001b[1;33m \u001b[0mmycursor\u001b[0m\u001b[1;33m.\u001b[0m\u001b[0mexecute\u001b[0m\u001b[1;33m(\u001b[0m\u001b[1;34m\"select * from student full outer join class on class.ClassID=student.ClassiD\"\u001b[0m\u001b[1;33m)\u001b[0m\u001b[1;33m\u001b[0m\u001b[1;33m\u001b[0m\u001b[0m\n\u001b[0m\u001b[0;32m     10\u001b[0m \u001b[1;32mfor\u001b[0m \u001b[0mx\u001b[0m \u001b[1;32min\u001b[0m \u001b[0mmycursor\u001b[0m\u001b[1;33m:\u001b[0m\u001b[1;33m\u001b[0m\u001b[1;33m\u001b[0m\u001b[0m\n\u001b[0;32m     11\u001b[0m   \u001b[0mprint\u001b[0m\u001b[1;33m(\u001b[0m\u001b[0mx\u001b[0m\u001b[1;33m)\u001b[0m\u001b[1;33m\u001b[0m\u001b[1;33m\u001b[0m\u001b[0m\n",
      "\u001b[1;32m~\\anaconda3\\lib\\site-packages\\mysql\\connector\\cursor_cext.py\u001b[0m in \u001b[0;36mexecute\u001b[1;34m(self, operation, params, multi)\u001b[0m\n\u001b[0;32m    262\u001b[0m \u001b[1;33m\u001b[0m\u001b[0m\n\u001b[0;32m    263\u001b[0m         \u001b[1;32mtry\u001b[0m\u001b[1;33m:\u001b[0m\u001b[1;33m\u001b[0m\u001b[1;33m\u001b[0m\u001b[0m\n\u001b[1;32m--> 264\u001b[1;33m             result = self._cnx.cmd_query(stmt, raw=self._raw,\n\u001b[0m\u001b[0;32m    265\u001b[0m                                          \u001b[0mbuffered\u001b[0m\u001b[1;33m=\u001b[0m\u001b[0mself\u001b[0m\u001b[1;33m.\u001b[0m\u001b[0m_buffered\u001b[0m\u001b[1;33m,\u001b[0m\u001b[1;33m\u001b[0m\u001b[1;33m\u001b[0m\u001b[0m\n\u001b[0;32m    266\u001b[0m                                          raw_as_string=self._raw_as_string)\n",
      "\u001b[1;32m~\\anaconda3\\lib\\site-packages\\mysql\\connector\\connection_cext.py\u001b[0m in \u001b[0;36mcmd_query\u001b[1;34m(self, query, raw, buffered, raw_as_string)\u001b[0m\n\u001b[0;32m    489\u001b[0m                                raw_as_string=raw_as_string)\n\u001b[0;32m    490\u001b[0m         \u001b[1;32mexcept\u001b[0m \u001b[0mMySQLInterfaceError\u001b[0m \u001b[1;32mas\u001b[0m \u001b[0mexc\u001b[0m\u001b[1;33m:\u001b[0m\u001b[1;33m\u001b[0m\u001b[1;33m\u001b[0m\u001b[0m\n\u001b[1;32m--> 491\u001b[1;33m             raise errors.get_mysql_exception(exc.errno, msg=exc.msg,\n\u001b[0m\u001b[0;32m    492\u001b[0m                                              sqlstate=exc.sqlstate)\n\u001b[0;32m    493\u001b[0m         \u001b[1;32mexcept\u001b[0m \u001b[0mAttributeError\u001b[0m\u001b[1;33m:\u001b[0m\u001b[1;33m\u001b[0m\u001b[1;33m\u001b[0m\u001b[0m\n",
      "\u001b[1;31mProgrammingError\u001b[0m: 1064 (42000): You have an error in your SQL syntax; check the manual that corresponds to your MySQL server version for the right syntax to use near 'outer join class on class.ClassID=student.ClassiD' at line 1"
     ]
    }
   ],
   "source": [
    "import mysql.connector\n",
    "mydb = mysql.connector.connect(\n",
    "  host=\"localhost\",\n",
    "  user=\"root\",\n",
    "  password=\"!Aworker2#\",\n",
    "  database='college'\n",
    ")\n",
    "mycursor = mydb.cursor()\n",
    "mycursor.execute(\"select * from student full outer join class on class.ClassID=student.ClassiD\")\n",
    "for x in mycursor:\n",
    "  print(x)\n",
    "print('There are two tables in college database')\n",
    "print(\"The two tables are:\")\n",
    "mycursor1 = mydb.cursor()\n",
    "mycursor1.execute(\"select student_name,perentage from student\")\n",
    "result=mycursor1.fetchall()\n",
    "\n",
    "for t in result:\n",
    "    print(t)\n",
    "    \n",
    "print()\n",
    "print(result[0][0],result[0][1])"
   ]
  },
  {
   "cell_type": "code",
   "execution_count": 36,
   "metadata": {},
   "outputs": [
    {
     "name": "stdout",
     "output_type": "stream",
     "text": [
      "('Niels', 78)\n",
      "('John', 50)\n",
      "('Maria', 89)\n",
      "('Tina', 69)\n",
      "('Dam', 60)\n",
      "('Mathur', 70)\n",
      "('Shekhar', 83)\n"
     ]
    }
   ],
   "source": [
    "import mysql.connector\n",
    "\n",
    "\n",
    "mycursor1 = mydb.cursor()\n",
    "mycursor1.execute(\"select student_name,perentage from student\")\n",
    "for x in mycursor1:\n",
    "        print(x)"
   ]
  },
  {
   "cell_type": "code",
   "execution_count": 28,
   "metadata": {},
   "outputs": [
    {
     "name": "stdout",
     "output_type": "stream",
     "text": [
      "404\n"
     ]
    }
   ],
   "source": [
    "import requests as q\n",
    "res = q.get('https://www.google.com/fhg')\n",
    "print(res.status_code)\n"
   ]
  },
  {
   "cell_type": "code",
   "execution_count": 5,
   "metadata": {},
   "outputs": [
    {
     "name": "stdout",
     "output_type": "stream",
     "text": [
      "(1, 'Kabul', 'AFG', 'Kabol', 1780000)\n",
      "(2, 'Qandahar', 'AFG', 'Qandahar', 237500)\n",
      "(3, 'Herat', 'AFG', 'Herat', 186800)\n",
      "(4, 'Mazar-e-Sharif', 'AFG', 'Balkh', 127800)\n",
      "(5, 'Amsterdam', 'NLD', 'Noord-Holland', 731200)\n",
      "\n",
      "5\n"
     ]
    }
   ],
   "source": [
    "import mysql.connector\n",
    "mydb = mysql.connector.connect(\n",
    "  host=\"localhost\",\n",
    "  user=\"root\",\n",
    "  password=\"!Aworker2#\",\n",
    "  database='world'\n",
    ")\n",
    "cursor=mydb.cursor()\n",
    "cursor.execute('select * from city')\n",
    "data1=cursor.fetchmany(5)\n",
    "count1=cursor.rowcount\n",
    "for r in data1:\n",
    "    print(r)\n",
    "    \n",
    "print()\n",
    "print(count1)\n",
    "\n",
    "\n",
    "\n"
   ]
  },
  {
   "cell_type": "code",
   "execution_count": 1,
   "metadata": {},
   "outputs": [],
   "source": [
    "import numpy as np"
   ]
  },
  {
   "cell_type": "code",
   "execution_count": 1,
   "metadata": {},
   "outputs": [
    {
     "name": "stdout",
     "output_type": "stream",
     "text": [
      "[46, 67, 78]\n"
     ]
    }
   ],
   "source": [
    "x=[12,43,33]\n",
    "y=[34,24,45]\n",
    "k=[]\n",
    "for f in range(len(x)):\n",
    "    g = x[f] + y[f]\n",
    "    k.append(g)\n",
    "        \n",
    "print(k)"
   ]
  },
  {
   "cell_type": "code",
   "execution_count": 3,
   "metadata": {},
   "outputs": [
    {
     "data": {
      "text/plain": [
       "[5, 23, 23, 24, 34, 34, 34, 34, 42, 2223]"
      ]
     },
     "execution_count": 3,
     "metadata": {},
     "output_type": "execute_result"
    }
   ],
   "source": [
    "s=[23,34,5,34,34]\n",
    "r=[34,42,24,2223,23]\n",
    "g = s+r\n",
    "g.sort()\n",
    "g"
   ]
  },
  {
   "cell_type": "code",
   "execution_count": 19,
   "metadata": {},
   "outputs": [],
   "source": [
    "import pandas as pd"
   ]
  },
  {
   "cell_type": "code",
   "execution_count": 13,
   "metadata": {
    "scrolled": true
   },
   "outputs": [
    {
     "name": "stdout",
     "output_type": "stream",
     "text": [
      "Enter the range\n",
      "5\n",
      "1  \n",
      "1  2  \n",
      "1  2  3  \n",
      "1  2  3  4  \n"
     ]
    }
   ],
   "source": [
    "print('Enter the range')\n",
    "n = int(input())\n",
    "for i in range(1,n):\n",
    "\n",
    "    for j in range(1,i+1):\n",
    "        print(j,\" \",end=\"\")\n",
    "    print()"
   ]
  },
  {
   "cell_type": "code",
   "execution_count": 21,
   "metadata": {},
   "outputs": [
    {
     "name": "stdout",
     "output_type": "stream",
     "text": [
      "Enter the number\n",
      "2\n",
      "Enter the first name\n",
      "Swami\n",
      "Enter the last name\n",
      "Shekhar\n",
      "Enter the first name\n",
      "Shweat\n",
      "Enter the last name\n",
      "Anand\n",
      "Enter the first name\n",
      "Pritish\n",
      "Enter the last name\n",
      "Sinha\n",
      "First Name    Last Name\n",
      "Swami Shekhar\n",
      "Shweat Anand\n",
      "Pritish Sinha\n"
     ]
    }
   ],
   "source": [
    "f_name=[]\n",
    "l_name=[]\n",
    "com=[]\n",
    "print(\"Enter the number\")\n",
    "num=int(input())\n",
    "for i in range(num+1):\n",
    "    print(\"Enter the first name\")\n",
    "    t=input()\n",
    "    print(\"Enter the last name\")\n",
    "    u=input()\n",
    "    com.append(t+\" \"+u)\n",
    "    \n",
    "print(\"First Name    Last Name\")\n",
    "for j in com:\n",
    "    print(j)"
   ]
  },
  {
   "cell_type": "code",
   "execution_count": 42,
   "metadata": {},
   "outputs": [],
   "source": [
    "x=[21,54,45]\n",
    "y=[65,32,98]\n",
    "z=[65,32,98]"
   ]
  },
  {
   "cell_type": "code",
   "execution_count": 47,
   "metadata": {},
   "outputs": [],
   "source": [
    "import numpy as np"
   ]
  },
  {
   "cell_type": "code",
   "execution_count": 44,
   "metadata": {},
   "outputs": [],
   "source": [
    "v=pd.DataFrame({'x':x,'y':y,'z':z})"
   ]
  },
  {
   "cell_type": "code",
   "execution_count": 50,
   "metadata": {},
   "outputs": [
    {
     "data": {
      "text/plain": [
       "array([ 86,  86, 143])"
      ]
     },
     "execution_count": 50,
     "metadata": {},
     "output_type": "execute_result"
    }
   ],
   "source": [
    "f=np.array(x) + np.array(y)\n",
    "f"
   ]
  },
  {
   "cell_type": "code",
   "execution_count": 56,
   "metadata": {},
   "outputs": [
    {
     "name": "stdout",
     "output_type": "stream",
     "text": [
      "\n",
      "  3___\n",
      " /    \\\n",
      "4     _9\n",
      "     /  \\\n",
      "    16   18\n",
      "           \\\n",
      "            2\n",
      "             \\\n",
      "              3\n",
      "\n"
     ]
    }
   ],
   "source": [
    "from binarytree import Node\n",
    "root = Node (3)\n",
    "root.left = Node (4)\n",
    "root.right = Node (9)\n",
    "root.right.left = Node (16)\n",
    "root.right.right = Node (18)\n",
    "root.right.right.right = Node (2)\n",
    "root.right.right.right.right = Node (3)\n",
    "print(root)"
   ]
  },
  {
   "cell_type": "code",
   "execution_count": 58,
   "metadata": {},
   "outputs": [
    {
     "name": "stdout",
     "output_type": "stream",
     "text": [
      "Enter the number for which factorial has to be calculated\n",
      "4\n",
      "the Factorial of 5 is  24\n"
     ]
    }
   ],
   "source": [
    "def fact(n):\n",
    "    f=1\n",
    "    for i in range(1,n+1):\n",
    "        f = f*i\n",
    "        \n",
    "    return f\n",
    "    \n",
    "print(\"Enter the number for which factorial has to be calculated\")\n",
    "v=int(input())\n",
    "print(\"the Factorial of\",n,\"is \", fact(v))"
   ]
  },
  {
   "cell_type": "code",
   "execution_count": 1,
   "metadata": {},
   "outputs": [
    {
     "name": "stdout",
     "output_type": "stream",
     "text": [
      "10\n"
     ]
    }
   ],
   "source": [
    "def add_numbers(a,b):\n",
    "    return a+b\n",
    "\n",
    "def diff_numbers(a,b):\n",
    "    return a-b\n",
    "\n",
    "c=add_numbers(5,6)\n",
    "d=diff_numbers(5,6)\n",
    "f=c+d\n",
    "print(f)"
   ]
  },
  {
   "cell_type": "code",
   "execution_count": 3,
   "metadata": {},
   "outputs": [
    {
     "name": "stdout",
     "output_type": "stream",
     "text": [
      "[5, 8]\n"
     ]
    },
    {
     "data": {
      "text/plain": [
       "8"
      ]
     },
     "execution_count": 3,
     "metadata": {},
     "output_type": "execute_result"
    }
   ],
   "source": [
    "b=[]\n",
    "b.append(5)\n",
    "b.append(8)\n",
    "print(b)\n",
    "b.pop()"
   ]
  },
  {
   "cell_type": "code",
   "execution_count": 5,
   "metadata": {},
   "outputs": [
    {
     "data": {
      "text/plain": [
       "5"
      ]
     },
     "execution_count": 5,
     "metadata": {},
     "output_type": "execute_result"
    }
   ],
   "source": [
    "b.pop()"
   ]
  },
  {
   "cell_type": "code",
   "execution_count": 6,
   "metadata": {},
   "outputs": [
    {
     "data": {
      "text/plain": [
       "['__add__',\n",
       " '__class__',\n",
       " '__contains__',\n",
       " '__delattr__',\n",
       " '__delitem__',\n",
       " '__dir__',\n",
       " '__doc__',\n",
       " '__eq__',\n",
       " '__format__',\n",
       " '__ge__',\n",
       " '__getattribute__',\n",
       " '__getitem__',\n",
       " '__gt__',\n",
       " '__hash__',\n",
       " '__iadd__',\n",
       " '__imul__',\n",
       " '__init__',\n",
       " '__init_subclass__',\n",
       " '__iter__',\n",
       " '__le__',\n",
       " '__len__',\n",
       " '__lt__',\n",
       " '__mul__',\n",
       " '__ne__',\n",
       " '__new__',\n",
       " '__reduce__',\n",
       " '__reduce_ex__',\n",
       " '__repr__',\n",
       " '__reversed__',\n",
       " '__rmul__',\n",
       " '__setattr__',\n",
       " '__setitem__',\n",
       " '__sizeof__',\n",
       " '__str__',\n",
       " '__subclasshook__',\n",
       " 'append',\n",
       " 'clear',\n",
       " 'copy',\n",
       " 'count',\n",
       " 'extend',\n",
       " 'index',\n",
       " 'insert',\n",
       " 'pop',\n",
       " 'remove',\n",
       " 'reverse',\n",
       " 'sort']"
      ]
     },
     "execution_count": 6,
     "metadata": {},
     "output_type": "execute_result"
    }
   ],
   "source": [
    "dir(b)"
   ]
  },
  {
   "cell_type": "code",
   "execution_count": 11,
   "metadata": {},
   "outputs": [
    {
     "name": "stdout",
     "output_type": "stream",
     "text": [
      "[[3, 24]]\n"
     ]
    }
   ],
   "source": [
    "c=[3,2,434,34,35]\n",
    "c.clear()\n",
    "c.append([3,24])\n",
    "print(c)"
   ]
  },
  {
   "cell_type": "code",
   "execution_count": 13,
   "metadata": {},
   "outputs": [
    {
     "name": "stdout",
     "output_type": "stream",
     "text": [
      "John\n",
      "23\n"
     ]
    }
   ],
   "source": [
    "class Person:\n",
    "    def __init__(self,name,age):\n",
    "        self.name=name\n",
    "        self.age=age\n",
    "        \n",
    "p1=Person('John',23)\n",
    "print(p1.name)\n",
    "print(p1.age)\n",
    "        "
   ]
  },
  {
   "cell_type": "code",
   "execution_count": 14,
   "metadata": {},
   "outputs": [
    {
     "name": "stdout",
     "output_type": "stream",
     "text": [
      "Hello World\n"
     ]
    }
   ],
   "source": [
    "class Computer:\n",
    "    \n",
    "    def config(self):\n",
    "        print('Hello World')\n",
    "        \n",
    "c1=Computer()\n",
    "c1.config()"
   ]
  },
  {
   "cell_type": "code",
   "execution_count": 25,
   "metadata": {},
   "outputs": [
    {
     "name": "stdout",
     "output_type": "stream",
     "text": [
      "11\n",
      "None\n"
     ]
    }
   ],
   "source": [
    "class Computer:\n",
    "    \n",
    "    def __init__(self,a,b):\n",
    "        self.a=a\n",
    "        self.b=b\n",
    "    \n",
    "    def configuration(self):\n",
    "        print(self.a+self.b)\n",
    "        \n",
    "c1=Computer(5,6)\n",
    "\n",
    "print(c1.configuration())"
   ]
  },
  {
   "cell_type": "code",
   "execution_count": 26,
   "metadata": {},
   "outputs": [
    {
     "name": "stdout",
     "output_type": "stream",
     "text": [
      "Help on class Computer in module __main__:\n",
      "\n",
      "class Computer(builtins.object)\n",
      " |  Computer(a, b)\n",
      " |  \n",
      " |  Methods defined here:\n",
      " |  \n",
      " |  __init__(self, a, b)\n",
      " |      Initialize self.  See help(type(self)) for accurate signature.\n",
      " |  \n",
      " |  configuration(self)\n",
      " |  \n",
      " |  ----------------------------------------------------------------------\n",
      " |  Data descriptors defined here:\n",
      " |  \n",
      " |  __dict__\n",
      " |      dictionary for instance variables (if defined)\n",
      " |  \n",
      " |  __weakref__\n",
      " |      list of weak references to the object (if defined)\n",
      "\n"
     ]
    }
   ],
   "source": [
    "help(Computer)"
   ]
  },
  {
   "cell_type": "code",
   "execution_count": 12,
   "metadata": {},
   "outputs": [
    {
     "name": "stdout",
     "output_type": "stream",
     "text": [
      "Swami Shekhar\n",
      "Swami\n",
      "Shekhar\n",
      "Birth year is: 1994\n",
      "The cast is: hindu\n"
     ]
    }
   ],
   "source": [
    "class User:\n",
    "    def __init__(self,full_name,birthday,caste):\n",
    "        self.name=full_name\n",
    "        self.birthday=birthday\n",
    "        self.caste=caste\n",
    "        name_pieces=full_name.split(\" \")\n",
    "        self.first_name=name_pieces[0]\n",
    "        self.last_name=name_pieces[-1]\n",
    "    \n",
    "user1=User(\"Swami Shekhar\",\"19940320\",\"hindu\")\n",
    "print(user1.name)\n",
    "print(user1.first_name)\n",
    "print(user1.last_name)\n",
    "print(\"Birth year is:\",(user1.birthday)[0:4])\n",
    "print(\"The cast is:\", user1.caste)\n",
    "\n",
    "    "
   ]
  },
  {
   "cell_type": "code",
   "execution_count": null,
   "metadata": {},
   "outputs": [],
   "source": [
    "class Hello:\n",
    "    a=5\n",
    "    \n",
    "    def sd(self,a,b):\n",
    "        return a*b\n",
    "\n",
    "h=Hello()\n",
    "print(h.sd(5,6)+5)"
   ]
  },
  {
   "cell_type": "code",
   "execution_count": 1,
   "metadata": {},
   "outputs": [
    {
     "name": "stdout",
     "output_type": "stream",
     "text": [
      "Enter the number for which cube has to be calculated:\n",
      "4\n",
      "The square of 4 is 64\n",
      "Enter the sring for which pallindrome has to be checked\n",
      "qwe\n",
      "1 The string is not pallindrome\n",
      "Enter the sring for which pallindrome has to be checked\n",
      "pop\n",
      "2 The string is pallindrome\n",
      "Enter the sring for which pallindrome has to be checked\n",
      "tot\n",
      "3 The string is pallindrome\n",
      "Enter the sring for which pallindrome has to be checked\n",
      "tata\n",
      "4 The string is not pallindrome\n",
      "Enter the sring for which pallindrome has to be checked\n",
      "ulu\n",
      "5 The string is pallindrome\n",
      "Enter the sring for which pallindrome has to be checked\n",
      "ereererhkjdhf\n",
      "6 The string is not pallindrome\n",
      "Enter the sring for which pallindrome has to be checked\n",
      "popopop\n",
      "7 The string is pallindrome\n",
      "Enter the sring for which pallindrome has to be checked\n",
      "hjhjhjhj\n",
      "8 The string is not pallindrome\n",
      "Enter the sring for which pallindrome has to be checked\n",
      "jhjhjhjhj\n",
      "9 The string is pallindrome\n"
     ]
    }
   ],
   "source": [
    "class String_Manipulation:\n",
    "    def rev_string(self,s):\n",
    "        h=\"\"\n",
    "        for i in range(len(s)-1,-1,-1):\n",
    "            h=h+s[i]    \n",
    "        return h\n",
    "    \n",
    "    def number_cube(self,n):\n",
    "        return n*n*n\n",
    "    \n",
    "    def pallindrome_check(self,s,i):\n",
    "        manip=String_Manipulation()\n",
    "        if (s==manip.rev_string(s)):\n",
    "            print(i,\"The string is pallindrome\")\n",
    "        else:\n",
    "            print(i,\"The string is not pallindrome\")\n",
    "    \n",
    "manip=String_Manipulation()\n",
    "print(\"Enter the number for which cube has to be calculated:\")\n",
    "num=int(input())\n",
    "print(\"The square of\",num, \"is\",manip.number_cube(num))\n",
    "\n",
    "\n",
    "for i in range(1,10,1):\n",
    "    print(\"Enter the sring for which pallindrome has to be checked\")\n",
    "    stng=input()\n",
    "    manip.pallindrome_check(stng,i)"
   ]
  },
  {
   "cell_type": "code",
   "execution_count": null,
   "metadata": {},
   "outputs": [],
   "source": [
    "import pandas as pd"
   ]
  },
  {
   "cell_type": "code",
   "execution_count": 5,
   "metadata": {},
   "outputs": [],
   "source": [
    "x=[23,34,35,3,353]\n",
    "y=[34,34,333,234,23]\n",
    "g=pd.DataFrame({'Price':x,'Quantity':y})"
   ]
  },
  {
   "cell_type": "code",
   "execution_count": 12,
   "metadata": {},
   "outputs": [],
   "source": [
    "g['extra'] = g['Price']*g['Quantity']"
   ]
  },
  {
   "cell_type": "code",
   "execution_count": 14,
   "metadata": {},
   "outputs": [],
   "source": [
    "def incr_1(x):\n",
    "    return x+1\n",
    "\n",
    "g['extra_1'] = g.extra.apply(incr_1)"
   ]
  },
  {
   "cell_type": "code",
   "execution_count": null,
   "metadata": {},
   "outputs": [],
   "source": [
    "c=['pop','rat','cow','ulu','kol']\n",
    "v=pd.Data"
   ]
  }
 ],
 "metadata": {
  "kernelspec": {
   "display_name": "Python 3",
   "language": "python",
   "name": "python3"
  },
  "language_info": {
   "codemirror_mode": {
    "name": "ipython",
    "version": 3
   },
   "file_extension": ".py",
   "mimetype": "text/x-python",
   "name": "python",
   "nbconvert_exporter": "python",
   "pygments_lexer": "ipython3",
   "version": "3.8.3"
  }
 },
 "nbformat": 4,
 "nbformat_minor": 4
}
